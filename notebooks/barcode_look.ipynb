{
 "cells": [
  {
   "cell_type": "markdown",
   "metadata": {},
   "source": [
    "# Look at barcode diversity in real life"
   ]
  },
  {
   "cell_type": "code",
   "execution_count": null,
   "metadata": {},
   "outputs": [],
   "source": [
    "%load_ext autoreload\n",
    "%autoreload 2"
   ]
  },
  {
   "cell_type": "code",
   "execution_count": null,
   "metadata": {},
   "outputs": [],
   "source": [
    "import iss_preprocess as issp\n",
    "from iss_analysis.barcodes import barcodes as bar\n",
    "from iss_analysis.barcodes.diagnostics import plot_gmm_clusters, plot_error_along_sequence\n",
    "import matplotlib.pyplot as plt\n",
    "import numpy as np\n",
    "import pandas as pd"
   ]
  },
  {
   "cell_type": "markdown",
   "metadata": {},
   "source": []
  },
  {
   "cell_type": "markdown",
   "metadata": {},
   "source": [
    "# Get data\n",
    "\n",
    "## Get all the barcode and filter with GMM"
   ]
  },
  {
   "cell_type": "code",
   "execution_count": null,
   "metadata": {},
   "outputs": [],
   "source": [
    "data_path = \"becalia_rabies_barseq/BRAC8498.3e\"\n",
    "analysis_folder = issp.io.get_processed_path(data_path) / \"analysis\"\n",
    "analysis_folder.mkdir(exist_ok=True)\n"
   ]
  },
  {
   "cell_type": "code",
   "execution_count": null,
   "metadata": {},
   "outputs": [],
   "source": [
    "\n",
    "thresholds = dict(mean_intensity=0.01, dot_product_score=0.2, mean_score=0.5)\n",
    "barcode_spots, gmm, all_barcode_spots = bar.get_barcodes(\n",
    "    acquisition_folder=data_path,\n",
    "**{f\"{k}_threshold\": v for k, v in thresholds.items()})\n",
    "\n",
    "pg = plot_gmm_clusters(all_barcode_spots, gmm, thresholds=thresholds)\n",
    "fig = pg.figure\n",
    "fig.savefig(analysis_folder / \"gmm_clusters.png\")\n"
   ]
  },
  {
   "cell_type": "markdown",
   "metadata": {},
   "source": [
    "## Plot proportion of barcodes in each cluster"
   ]
  },
  {
   "cell_type": "code",
   "execution_count": null,
   "metadata": {},
   "outputs": [],
   "source": [
    "\n",
    "ch_r_gp = all_barcode_spots.groupby(['chamber', 'roi'])\n",
    "n_rois = len(ch_r_gp)\n",
    "n_per_lab = np.zeros((n_rois, 3))\n",
    "for i, (ch_r, df) in enumerate(ch_r_gp):\n",
    "    n_per_lab[i] = df.groupby('gmm_label').size()\n",
    "\n",
    "fig = plt.figure(figsize=(20, 10))\n",
    "ax = fig.add_subplot(2,1,1)\n",
    "ax.plot(np.arange(n_rois), n_per_lab, 'o-')\n",
    "ax.set_xticks(np.arange(n_rois))\n",
    "ax.set_xticklabels([])\n",
    "ax.set_ylabel('Number of spots')\n",
    "ax = fig.add_subplot(2,1,2)\n",
    "ax.plot(np.arange(n_rois), n_per_lab/np.sum(n_per_lab, axis=1, keepdims=True), 'o-')\n",
    "ax.set_xticks(np.arange(n_rois))\n",
    "ax.set_ylabel('Fraction of spots')\n",
    "_ = ax.set_xticklabels([f\"{ch}_{r}\" for ch, r in ch_r_gp.groups.keys()], rotation=90)\n",
    "fig.tight_layout()"
   ]
  },
  {
   "cell_type": "markdown",
   "metadata": {},
   "source": [
    "## Plot one example chamber"
   ]
  },
  {
   "cell_type": "code",
   "execution_count": null,
   "metadata": {},
   "outputs": [],
   "source": [
    "chamber = 8\n",
    "roi = 8\n",
    "\n",
    "import matplotlib.pyplot as plt\n",
    "df = all_barcode_spots[(all_barcode_spots[\"chamber\"] == f\"chamber_{chamber:02}\") & (all_barcode_spots[\"roi\"] == roi)]\n",
    "fig = plt.figure(figsize=(20, 10), facecolor='black')\n",
    "ax = fig.add_subplot(1,1,1,aspect='equal', facecolor='black')\n",
    "for i in range(3):\n",
    "    ax.scatter(df[df[\"gmm_label\"] == i][\"y\"], df[df[\"gmm_label\"] == i][\"x\"], label=f\"cluster {i}\",\n",
    "                alpha=0.1, s=1)\n",
    "plt.legend()\n",
    "_ = ax.axis('off')"
   ]
  },
  {
   "cell_type": "markdown",
   "metadata": {},
   "source": [
    "# Error correction"
   ]
  },
  {
   "cell_type": "markdown",
   "metadata": {},
   "source": [
    "## Estimate error rate along sequence"
   ]
  },
  {
   "cell_type": "code",
   "execution_count": null,
   "metadata": {},
   "outputs": [],
   "source": [
    "errors_along_seq = bar.error_per_round(spot_df=barcode_spots, edit_distance=1, spot_count_threshold=30, sequence_column='sequence', filter_column='bases')"
   ]
  },
  {
   "cell_type": "code",
   "execution_count": null,
   "metadata": {},
   "outputs": [],
   "source": [
    "figs = plot_error_along_sequence(errors_along_seq, nrows=2, plot_matrix=False, marker='o')"
   ]
  },
  {
   "cell_type": "markdown",
   "metadata": {},
   "source": [
    "## Manually filter out missing data"
   ]
  },
  {
   "cell_type": "code",
   "execution_count": null,
   "metadata": {},
   "outputs": [],
   "source": [
    "# This is INDEX of the round, NOT the number as written in the file name, so 0 based.\n",
    "missing_roi = dict(chamber_09={8: 2, 9: 2}, chamber_08={8:10, 9:10})\n",
    "missing_tiles = dict(chamber_08={'10_2_4':5})"
   ]
  },
  {
   "cell_type": "code",
   "execution_count": null,
   "metadata": {},
   "outputs": [],
   "source": [
    "clean_barcodes = barcode_spots.copy()\n",
    "\n",
    "print('Removing rounds with missing rois')\n",
    "for chamber, rois in missing_roi.items():\n",
    "    for roi, round_ in rois.items():\n",
    "        print(f\"Removing round {round_} from {chamber}, roi {roi}\")\n",
    "        bad = (clean_barcodes[\"chamber\"] == chamber) & (clean_barcodes[\"roi\"] == roi)\n",
    "        mask = np.zeros(len(clean_barcodes.iloc[0]['sequence']), dtype=float)\n",
    "        mask[round_] = np.nan\n",
    "        c = clean_barcodes.loc[bad, 'sequence'].map(lambda x: x + mask)\n",
    "        clean_barcodes.loc[bad, 'sequence'] = c\n",
    "        c = clean_barcodes.loc[bad, 'bases'].map(lambda x: x[:round_] + 'N' + x[round_ + 1:])\n",
    "        clean_barcodes.loc[bad, 'bases'] = c\n",
    "print('Removing rounds with missing tiles')\n",
    "for chamber, tiles in missing_tiles.items():\n",
    "    for tile, round_ in tiles.items():\n",
    "        print(f\"Removing round {round_} from {chamber}, tile {tile}\")\n",
    "        bad = (clean_barcodes[\"chamber\"] == chamber) & (clean_barcodes[\"tile\"] == tile)\n",
    "        mask = np.zeros(len(clean_barcodes.iloc[0]['sequence']), dtype=float)\n",
    "        mask[round_] = np.nan\n",
    "        c = clean_barcodes.loc[bad, 'sequence'].map(lambda x: x + mask)\n",
    "        clean_barcodes.loc[bad, 'sequence'] = c\n",
    "        c = clean_barcodes.loc[bad, 'bases'].map(lambda x: x[:round_] + 'N' + x[round_ + 1:])\n",
    "        clean_barcodes.loc[bad, 'bases'] = c"
   ]
  },
  {
   "cell_type": "code",
   "execution_count": null,
   "metadata": {},
   "outputs": [],
   "source": [
    "errors_along_seq = bar.error_per_round(spot_df=clean_barcodes, edit_distance=1, spot_count_threshold=30)\n",
    "figs = plot_error_along_sequence(errors_along_seq, nrows=2, plot_matrix=False, marker='o')"
   ]
  },
  {
   "cell_type": "markdown",
   "metadata": {},
   "source": [
    "## Actual error correction part"
   ]
  },
  {
   "cell_type": "code",
   "execution_count": null,
   "metadata": {},
   "outputs": [],
   "source": [
    "import pandas as pd\n",
    "redo = False\n",
    "weights = np.ones(14)\n",
    "# weights[10:] = 0\n",
    "err_corr_edt = dict()\n",
    "for edist in [3]:\n",
    "    print(f\"Correcting barcodes with edit distance {edist}\")\n",
    "    fname = analysis_folder / f\"corrected_barcode_spots_edit{edist}.pkl\"\n",
    "    if redo or not fname.exists():\n",
    "        err_corr, merge_dict = bar.correct_barcode_sequences(clean_barcodes, max_edit_distance=edist, weights=weights, return_merge_dict=True)\n",
    "        err_corr.to_pickle(fname)\n",
    "    else:\n",
    "        err_corr = pd.read_pickle(fname)\n",
    "    non_corr = err_corr.bases.value_counts()\n",
    "    corr = err_corr.corrected_bases.value_counts()\n",
    "    print(f\"Number of unique sequences before correction: {len(non_corr)}\")\n",
    "    print(f\"Number of unique sequences after correction: {len(corr)}\")\n",
    "    err_corr_edt[edist] = err_corr\n",
    "\n"
   ]
  },
  {
   "cell_type": "markdown",
   "metadata": {},
   "source": [
    "## Quality control"
   ]
  },
  {
   "cell_type": "code",
   "execution_count": null,
   "metadata": {},
   "outputs": [],
   "source": [
    "for threshold in range(10, 100, 10):\n",
    "    n_bc = {}\n",
    "    n_bc_with_N = {}\n",
    "    for k, v in err_corr_edt.items():\n",
    "        v['corrected_bases'] = v['corrected_bases'].map(lambda x: ''.join(x))\n",
    "        vc = v['corrected_bases'].value_counts()\n",
    "        n_bc[k] = vc[vc > threshold].shape[0]\n",
    "        n_bc_with_N[k] = np.sum(['N' in i for i in vc.index])\n",
    "    plt.plot(n_bc.keys(), n_bc.values(), 'o-', label=f\"Aboundance > {threshold}\")\n",
    "plt.ylabel('Number of unique barcodes')\n",
    "plt.xlabel('Edit distance')\n",
    "plt.legend()"
   ]
  },
  {
   "cell_type": "code",
   "execution_count": null,
   "metadata": {},
   "outputs": [],
   "source": [
    "ab = vc[vc >= 500]\n",
    "\n",
    "nchamber = len(v.chamber.unique())\n",
    "nrois= 10\n",
    "fig, axes = plt.subplots(nrois, nchamber, figsize=(20, 40))\n",
    "for bci in range(5):\n",
    "    bc = v[v.corrected_bases==ab.index[bci]]\n",
    "    for ich, (ch_name, ch) in enumerate(v.groupby('chamber')):\n",
    "        for iroi, (roi_name, roi) in enumerate(ch.groupby('roi')):\n",
    "            ax = axes[iroi, ich]\n",
    "            bcc = bc[(bc.roi == roi_name) & (bc.chamber == ch_name)]\n",
    "            if not bci:\n",
    "                ax.scatter(roi['y'], roi['x'], label=f\"roi {iroi}\", s=1, color='k', alpha=0.05)\n",
    "            ax.scatter(bcc['y'], bcc['x'], label=f\"roi {iroi}\", s=5, color=f'C{bci}', alpha=0.5)\n",
    "            ax.axis('equal')\n",
    "            ax.axis('off')\n",
    "fig.tight_layout()"
   ]
  },
  {
   "cell_type": "code",
   "execution_count": null,
   "metadata": {},
   "outputs": [],
   "source": [
    "\n",
    "\n",
    "plt.plot(n_bc_with_N.keys(), n_bc_with_N.values(), 'o-', label=\"with N\")\n",
    "plt.ylabel('Number of unique barcodes')\n",
    "plt.xlabel('Edit distance')\n",
    "plt.legend()"
   ]
  },
  {
   "cell_type": "code",
   "execution_count": null,
   "metadata": {},
   "outputs": [],
   "source": [
    "nan_to_start = np.sum(['N' in i for i in non_corr.index])\n",
    "nan_after = np.sum(['N' in i for i in corr.index])\n",
    "print(f\"Number of 'unique' sequences with N before correction: {nan_to_start}\")\n",
    "print(f\"Number of 'unique' sequences with N after correction: {nan_after}\")\n",
    "print(f\"Number of sequences with N corrected: {nan_to_start-nan_after}\")"
   ]
  },
  {
   "cell_type": "code",
   "execution_count": null,
   "metadata": {},
   "outputs": [],
   "source": [
    "fig = plt.figure(figsize=(7, 3)) \n",
    "fig.suptitle(\"# Rolonies per sequence\")\n",
    "ax = fig.add_subplot(1, 2, 1)\n",
    "ax.hist(non_corr.values, bins=np.arange(0,corr.max(),10), log=True, histtype='step', label='non-corrected')\n",
    "ax.hist(corr.values, bins=np.arange(0,corr.max(),10), log=True, histtype='step', label='corrected')\n",
    "ax = fig.add_subplot(1, 2, 2)\n",
    "ax.hist(non_corr.values, bins=np.arange(100), log=True, label='non-corrected', histtype='step')\n",
    "ax.hist(corr.values, bins=np.arange(100), log=True, label='corrected', histtype='step')\n",
    "ax.legend(loc='upper right')\n",
    "fig.tight_layout()"
   ]
  },
  {
   "cell_type": "code",
   "execution_count": null,
   "metadata": {},
   "outputs": [],
   "source": [
    "fig = plt.figure(figsize=(7, 3)) \n",
    "fig.suptitle(\"# Rolonies per sequence\")\n",
    "ax = fig.add_subplot(1, 2, 1)\n",
    "ax.hist(non_corr.values, bins=np.arange(corr.max()), log=False, histtype='step', label='non-corrected', cumulative=True, density=True)\n",
    "ax.hist(corr.values, bins=np.arange(corr.max()), log=False, histtype='step', label='corrected', cumulative=True, density=True)\n",
    "ax = fig.add_subplot(1, 2, 2)\n",
    "ax.hist(non_corr.values, bins=np.arange(100), log=False, label='non-corrected', histtype='step', density=True)\n",
    "ax.hist(corr.values, bins=np.arange(100), log=False, label='corrected', histtype='step', density=True)\n",
    "ax.legend(loc='upper right')\n",
    "fig.tight_layout()"
   ]
  },
  {
   "cell_type": "code",
   "execution_count": null,
   "metadata": {},
   "outputs": [],
   "source": [
    "from iss_preprocess.call import BASES\n",
    "th = 1\n",
    "good = corr[corr > 30].index\n",
    "print(len(good))\n",
    "sequences = np.stack(err_corr[\"corrected_sequence\"].to_numpy())\n",
    "error_along_sequence = np.zeros((len(good), sequences.shape[1]))\n",
    "bases = list(BASES) + ['N']\n",
    "for ibar, barcode in enumerate(good):\n",
    "    seq = [bases.index(b) for b in barcode]\n",
    "    diff = sequences - seq\n",
    "    edit_distance = np.sum(diff != 0, axis=1)\n",
    "    actual_errs = edit_distance <= th\n",
    "    bad_barcode = diff[actual_errs]\n",
    "    error_along_sequence[ibar] = np.any(bad_barcode != 0, axis=0)\n"
   ]
  },
  {
   "cell_type": "code",
   "execution_count": null,
   "metadata": {},
   "outputs": [],
   "source": [
    "def plot_error_along_seq(error_along_sequence):\n",
    "    fig = plt.figure(figsize=(10, 5))\n",
    "    fig.suptitle(\"Errors along sequence (edit distance 1)\")\n",
    "    ax = fig.add_subplot(1, 2, 1)\n",
    "    im = ax.imshow(error_along_sequence, aspect='auto')\n",
    "    ax.set_xlabel('Position')\n",
    "    ax.set_ylabel('Barcode')\n",
    "    cb = fig.colorbar(im, ax=ax)\n",
    "    cb.set_label('Errors')\n",
    "    ax = fig.add_subplot(1, 2, 2)\n",
    "    ax.plot(np.mean(error_along_sequence, axis=0))\n",
    "    ax.set_xlabel('Position')\n",
    "    ax.set_ylabel('Mean errors')\n",
    "    fig.tight_layout()\n",
    "    return fig\n",
    "f = plot_error_along_seq(error_along_sequence)"
   ]
  },
  {
   "cell_type": "code",
   "execution_count": null,
   "metadata": {},
   "outputs": [],
   "source": [
    "non_corr = err_corr.bases.value_counts()\n",
    "corr = err_corr.corrected_bases.value_counts()\n",
    "df_non_corr = pd.DataFrame(dict(seq=non_corr.index, cnt=non_corr.values))\n",
    "df_corr = pd.DataFrame(dict(seq=corr.index, cnt=corr.values))\n",
    "\n",
    "print(df_non_corr.head())\n"
   ]
  },
  {
   "cell_type": "code",
   "execution_count": null,
   "metadata": {},
   "outputs": [],
   "source": [
    "ok = df_non_corr.cnt > 50\n",
    "print(df_non_corr[ok].cnt.sum() / df_non_corr.cnt.sum())\n",
    "ok = df_corr.cnt > 50\n",
    "print(df_corr[ok].cnt.sum() / df_corr.cnt.sum())"
   ]
  },
  {
   "cell_type": "code",
   "execution_count": null,
   "metadata": {},
   "outputs": [],
   "source": [
    "fig = plt.figure(figsize=(5, 3))\n",
    "ax = fig.add_subplot(1,1,1)\n",
    "ax.plot(np.log(df_non_corr.index),np.log(df_non_corr[\"cnt\"]), label='non-corrected')\n",
    "ax.plot(np.log(df_corr.index), np.log(df_corr[\"cnt\"]), label='corrected')\n",
    "plt.legend()\n",
    "ax.set_xlabel('Rank')\n",
    "ax.set_ylabel('log(count)')\n"
   ]
  },
  {
   "cell_type": "code",
   "execution_count": null,
   "metadata": {},
   "outputs": [],
   "source": []
  },
  {
   "cell_type": "code",
   "execution_count": null,
   "metadata": {},
   "outputs": [],
   "source": [
    "all_vs.shape"
   ]
  },
  {
   "cell_type": "code",
   "execution_count": null,
   "metadata": {},
   "outputs": [],
   "source": [
    "fig = plt.figure(figsize=(10, 3))\n",
    "print(all_vs.max())\n",
    "ax = fig.add_subplot(1, 2, 1)\n",
    "_ = ax.hist(all_vs, bins=np.arange(0, all_vs.max(), 10), log=True)\n",
    "ax.text(800, 10e3, f\"Max: {all_vs.max():.0f}\")\n",
    "ax.set_ylabel('Number of rolonies before merge')\n",
    "ax = fig.add_subplot(1, 2, 2)\n",
    "_ = ax.hist(all_vs, bins=np.arange(25) + 0.5, log=False)\n",
    "ax.set_xticks(np.arange(0, 24, 2) + 1)\n",
    "ax.set_ylabel('Number of rolonies before merge')\n",
    "fig.tight_layout()\n"
   ]
  },
  {
   "cell_type": "markdown",
   "metadata": {},
   "source": [
    "# Check registration\n",
    "\n",
    "Save overview plot to check registration"
   ]
  },
  {
   "cell_type": "code",
   "execution_count": null,
   "metadata": {},
   "outputs": [],
   "source": [
    "# helper plotting functions\n",
    "def get_stack_part(stack, xlim, ylim):\n",
    "    ylim = sorted(ylim)\n",
    "    xlim = sorted(xlim)\n",
    "    return stack[ylim[0]:ylim[1], xlim[0]:xlim[1]]\n",
    "\n",
    "def get_spot_part(df, xlim, ylim):\n",
    "    ylim = sorted(ylim)\n",
    "    xlim = sorted(xlim)\n",
    "    return df[(df[\"x\"] >= xlim[0]) & (df[\"x\"] < xlim[1]) & (df[\"y\"] >= ylim[0]) & (df[\"y\"] < ylim[1])]"
   ]
  },
  {
   "cell_type": "code",
   "execution_count": null,
   "metadata": {},
   "outputs": [],
   "source": [
    "def get_stacks(chamber, roi, data_path):\n",
    "    ref = issp.pipeline.stitch_registered(data_path + f\"/{chamber}\", prefix='hybridisation_round_2_1', roi=roi, channels=[2,3])\n",
    "    #barcode_round_1 = issp.pipeline.stitch_registered(data_path + f\"/{chamber}\", prefix='barcode_round_1_1', roi=roi, channels=range(4))\n",
    "    #barcode_round_1 = np.nanmax(barcode_round_1, axis=2)\n",
    "    barcode_round_1 = None\n",
    "    mcherry = issp.pipeline.stitch_registered(data_path + f\"/{chamber}\", prefix='mCherry_1', roi=roi, channels=2)\n",
    "    return ref, barcode_round_1, mcherry\n",
    "\n",
    "chamber= 'chamber_09'\n",
    "roi = 3\n",
    "ref = issp.pipeline.stitch_registered(data_path + f\"/{chamber}\", prefix='hybridisation_round_2_1', roi=roi, channels=[2,3])\n",
    "mcherry = issp.pipeline.stitch_registered(data_path + f\"/{chamber}\", prefix='mCherry_1', roi=roi, channels=2)\n",
    "\n"
   ]
  },
  {
   "cell_type": "code",
   "execution_count": null,
   "metadata": {},
   "outputs": [],
   "source": [
    "barcode_round_1 = issp.pipeline.stitch_registered(data_path + f\"/{chamber}\", prefix='barcode_round_1_1', roi=roi, channels=range(4))"
   ]
  },
  {
   "cell_type": "code",
   "execution_count": null,
   "metadata": {},
   "outputs": [],
   "source": [
    "def get_st(data_path, roi):\n",
    "    ops = issp.io.load_ops(data_path)\n",
    "    ref_prefix = ops['reference_prefix']\n",
    "    ref_ch = ops['reg2ref_reference_channels']\n",
    "    print(f\"Stitching ref\")\n",
    "    ref = issp.pipeline.stitch_registered(data_path, prefix=ref_prefix, roi=roi, channels=ref_ch)\n",
    "\n",
    "    bc_chans = ops.get('reg2ref_barcode_channels', [0, 1, 2, 3])\n",
    "    print(f\"Stitching barcode\")\n",
    "    barcode_round_1 = issp.pipeline.stitch_registered(data_path, prefix='barcode_round_1_1', roi=roi, channels=bc_chans)\n",
    "    barcode_round_1 = np.nanmax(barcode_round_1, axis=2)\n",
    "    mch_chan = ops.get('reg2ref_mCherry_channels', [3])\n",
    "    print(f\"Stitching mCherry\")\n",
    "    mcherry = issp.pipeline.stitch_registered(data_path, prefix='mCherry_1', roi=roi, channels=mch_chan)\n",
    "    return ref, barcode_round_1, mcherry\n",
    "print(chamber, roi)\n",
    "ref, barcode_round_1, mcherry = get_st(data_path + f\"/{chamber}\", roi)\n"
   ]
  },
  {
   "cell_type": "code",
   "execution_count": null,
   "metadata": {},
   "outputs": [],
   "source": []
  },
  {
   "cell_type": "code",
   "execution_count": null,
   "metadata": {},
   "outputs": [],
   "source": [
    "def get_stack_part(stack, xlim, ylim):\n",
    "    ylim = sorted(ylim)\n",
    "    xlim = sorted(xlim)\n",
    "    return stack[ylim[0]:ylim[1], xlim[0]:xlim[1]]\n",
    "\n",
    "st = np.dstack([ref[...,0], mcherry,  barcode_round_1])\n",
    "rgb = issp.vis.to_rgb(st, colors=[(0, 0, 1), (1, 0, 0), (0, 1, 0)], \n",
    "                        vmin=np.nanpercentile(st, 1, axis=(0,1)), vmax=np.nanpercentile(st, 99.9, axis=(0,1)))\n",
    "fig = plt.figure(figsize=(20, 20))\n",
    "ax = fig.add_subplot(2, 1, 1)\n",
    "ax.imshow(rgb, interpolation='none')\n",
    "ax.set_axis_off()\n",
    "\n",
    "w, h = ref.shape[:2]\n",
    "for ix in range(2):\n",
    "    for iy in range(2):\n",
    "        ax = fig.add_subplot(4, 2, ix + 2 * iy + 5)\n",
    "        s_corner = get_stack_part(st, [ix * w // 4, (ix + 1) * w // 4], [iy * h // 4, (iy + 1) * h // 4])\n",
    "        rgb = issp.vis.to_rgb(s_corner, colors=[(0, 0, 1), (1, 0, 0), (0, 1, 0)], \n",
    "                        vmin=np.nanpercentile(s_corner, 1, axis=(0,1)), vmax=np.nanpercentile(s_corner, 99.9, axis=(0,1)))\n",
    "        ax.imshow(rgb, interpolation='none')\n",
    "        ax.set_axis_off()"
   ]
  },
  {
   "cell_type": "markdown",
   "metadata": {},
   "source": []
  },
  {
   "cell_type": "markdown",
   "metadata": {},
   "source": [
    "# Look at starters"
   ]
  },
  {
   "cell_type": "markdown",
   "metadata": {},
   "source": [
    "## Select example ROI"
   ]
  },
  {
   "cell_type": "code",
   "execution_count": null,
   "metadata": {},
   "outputs": [],
   "source": [
    "# try to make a big registered mask image\n",
    "chamber= 'chamber_08'\n",
    "roi = 4\n",
    "print(data_path + f\"/{chamber}\")\n"
   ]
  },
  {
   "cell_type": "code",
   "execution_count": null,
   "metadata": {},
   "outputs": [],
   "source": [
    "\n"
   ]
  },
  {
   "cell_type": "code",
   "execution_count": null,
   "metadata": {},
   "outputs": [],
   "source": [
    "st = np.dstack([ref[...,1], mcherry, np.nanmax(barcode_round_1, axis=2)])\n",
    "rgb = issp.vis.to_rgb(st, colors=[(0, 0, 1), (1, 0, 0), (0, 1, 0)], vmin=np.nanpercentile(st, 1, axis=(0,1)), vmax=np.nanpercentile(st, 99.9, axis=(0,1)))\n",
    "plt.figure(figsize=(20, 20))\n",
    "plt.imshow(rgb, interpolation='none')"
   ]
  },
  {
   "cell_type": "markdown",
   "metadata": {},
   "source": [
    "## Segment rolonies"
   ]
  },
  {
   "cell_type": "code",
   "execution_count": null,
   "metadata": {},
   "outputs": [],
   "source": [
    "1+1"
   ]
  },
  {
   "cell_type": "code",
   "execution_count": null,
   "metadata": {},
   "outputs": [],
   "source": [
    "from pathlib import Path\n",
    "\n",
    "chamber = 'chamber_10'\n",
    "slurm_folder = Path.home() / \"slurm_logs\" /( data_path + f\"/{chamber}\") / \"align_spots\"\n",
    "slurm_folder.mkdir(parents=True, exist_ok=True)\n",
    "ref_job_id = None\n",
    "\n",
    "print(data_path + f\"/{chamber}\")\n",
    "ops = issp.io.load_ops(data_path + f\"/{chamber}\",)\n",
    "ref_prefix = ops[\"reference_prefix\"]\n",
    "ref_job_id = issp.pipeline.stitch.register_within_acquisition(\n",
    "    data_path = data_path + f\"/{chamber}\",\n",
    "    prefix=ref_prefix,\n",
    "    reload=True,\n",
    "    save_plot=True,\n",
    "    use_slurm=False,\n",
    "    slurm_folder=slurm_folder,\n",
    "    scripts_name=f\"register_within_acquisition_{ref_prefix}\",\n",
    ")"
   ]
  },
  {
   "cell_type": "code",
   "execution_count": null,
   "metadata": {},
   "outputs": [],
   "source": [
    "from atexit import register\n",
    "from pathlib import Path\n",
    "pathc = data_path + f\"/chamber_10\"\n",
    "for roi in range(1, 11):\n",
    "    issp.pipeline.register.register_to_ref_using_stitched_registration(\n",
    "        pathc,\n",
    "        reg_prefix='mCherry_1',\n",
    "        ref_prefix=None,\n",
    "        rois=[roi],\n",
    "        ref_channels=None,\n",
    "        reg_channels=None,\n",
    "        estimate_rotation=True,\n",
    "        target_suffix=None,\n",
    "        use_masked_correlation=False,\n",
    "        downsample=3,\n",
    "        use_slurm=True,\n",
    "        slurm_folder=Path.home() / \"slurm_logs\" / pathc,\n",
    "        scripts_name=f\"register_to_ref_{roi}\",\n",
    "    )"
   ]
  },
  {
   "cell_type": "code",
   "execution_count": null,
   "metadata": {},
   "outputs": [],
   "source": [
    "df = err_corr[(err_corr[\"chamber\"] == chamber) & (err_corr[\"roi\"] == roi)].copy()\n",
    "barcode_in_cells = issp.segment.cells.count_spots(df, grouping_column='corrected_bases', masks=bigmask)\n",
    "all_cells = np.unique(bigmask)\n",
    "missing = set(all_cells) - set(barcode_in_cells.index)\n",
    "missing_df = pd.DataFrame(index=list(missing), columns=barcode_in_cells.columns, \n",
    "data=np.zeros((len(missing), len(barcode_in_cells.columns))))\n",
    "barcode_in_cells = pd.concat([barcode_in_cells, missing_df])"
   ]
  },
  {
   "cell_type": "code",
   "execution_count": null,
   "metadata": {},
   "outputs": [],
   "source": [
    "edist = 3\n",
    "err_corr = pd.read_pickle(analysis_folder / f\"corrected_barcode_spots_edit{edist}.pkl\")"
   ]
  },
  {
   "cell_type": "code",
   "execution_count": null,
   "metadata": {},
   "outputs": [],
   "source": [
    "from pathlib import Path\n",
    "import iss_analysis as issa\n",
    "redo = False\n",
    "skip_not_done = False\n",
    "use_slurm = True\n",
    "all_cells_list = []\n",
    "edist = 3\n",
    "for chamber in [f\"chamber_{i:02}\" for i in [8,9, 10]]: #err_corr.chamber.unique():\n",
    "    if chamber == 'chamber_07':\n",
    "        continue\n",
    "    print(f'Doing {chamber}')\n",
    "    for roi in range(1, 11): # err_corr.roi.unique():\n",
    "        target = analysis_folder / f\"barcode_in_cells_{chamber}_{roi}.pkl\"\n",
    "        if not redo and target.exists():\n",
    "            print(f\"    Reloading already processed roi\")\n",
    "            barcode_in_cells  = pd.read_pickle(target)\n",
    "        else:\n",
    "            if skip_not_done:\n",
    "                print(f\"     Skipping {chamber}, {roi}\", flush=True)\n",
    "                continue\n",
    "            print(f\"     Processing {chamber}, {roi}\", flush=True)\n",
    "            if use_slurm:\n",
    "                err_corr_fname = str(analysis_folder / f\"corrected_barcode_spots_edit{edist}.pkl\")\n",
    "                print('       Starting slurm job')\n",
    "                slurm_folder = Path.home() / \"slurm_logs\" / (data_path + f\"/{chamber}\") / \"segment_spots\"\n",
    "                slurm_folder.mkdir(parents=True, exist_ok=True)\n",
    "                job = issa.segment.get_barcode_in_cells(chamber, roi, data_path, err_corr_fname, save_folder=str(analysis_folder), use_slurm=True, slurm_folder=slurm_folder,\n",
    "                    scripts_name=f\"segment_spots_{chamber}_{roi}\")\n",
    "                continue\n",
    "            try:\n",
    "                barcode_in_cells = issa.segment.get_barcode_in_cells(chamber, roi, data_path, err_corr, save_folder=analysis_folder)\n",
    "            except Exception as e:\n",
    "                print(f\"Error processing {chamber}, {roi}: {e}\")\n",
    "                continue\n",
    "        barcode_in_cells = barcode_in_cells.loc[barcode_in_cells.index != 0].copy()\n",
    "        barcode_in_cells.index = barcode_in_cells.index.map(lambda x: f\"{chamber}_{roi}_{x}\")\n",
    "        all_cells_list.append(barcode_in_cells)\n",
    "all_cells = pd.concat(all_cells_list)\n",
    "all_cells.fillna(0, inplace=True)\n",
    "print(all_cells.shape)\n",
    "# add missing barcodes\n",
    "missing = set(err_corr.corrected_bases.unique()) - set(all_cells.columns)\n",
    "missing_df = pd.DataFrame(index=all_cells.index, columns=list(missing), data=np.zeros((len(all_cells), len(missing))))\n",
    "all_cells = pd.concat([all_cells, missing_df], axis=1)\n",
    "print(all_cells.shape)"
   ]
  },
  {
   "cell_type": "markdown",
   "metadata": {},
   "source": [
    "cnt_array = all_cells.values.astype(int)"
   ]
  },
  {
   "cell_type": "code",
   "execution_count": null,
   "metadata": {},
   "outputs": [],
   "source": [
    "cnt_array = all_cells.astype(int).values\n",
    "plt.imshow(cnt_array, interpolation='none', aspect='auto')\n",
    "plt.colorbar()"
   ]
  },
  {
   "cell_type": "code",
   "execution_count": null,
   "metadata": {},
   "outputs": [],
   "source": [
    "bc_cnt = err_corr.corrected_bases.value_counts()\n",
    "print(bc_cnt.shape)\n",
    "valid_barcodes = bc_cnt[bc_cnt > 100].index\n",
    "print(len(valid_barcodes))\n",
    "all_cells_valid_bc = all_cells[valid_barcodes]\n",
    "plt.imshow(all_cells_valid_bc, interpolation='none', aspect='auto')"
   ]
  },
  {
   "cell_type": "code",
   "execution_count": null,
   "metadata": {},
   "outputs": [],
   "source": [
    "cnt_array = all_cells_valid_bc.astype(int).values"
   ]
  },
  {
   "cell_type": "code",
   "execution_count": null,
   "metadata": {},
   "outputs": [],
   "source": [
    "cnt_array.shape"
   ]
  },
  {
   "cell_type": "code",
   "execution_count": null,
   "metadata": {},
   "outputs": [],
   "source": [
    "np.sum(cnt_array > 5, axis=0).shape"
   ]
  },
  {
   "cell_type": "code",
   "execution_count": null,
   "metadata": {},
   "outputs": [],
   "source": [
    "a,b = np.histogram(good_cell_per_barcode) \n",
    "a/np.sum(a)"
   ]
  },
  {
   "cell_type": "code",
   "execution_count": null,
   "metadata": {},
   "outputs": [],
   "source": [
    "p0 = 0.85\n",
    "p1 = 0.14\n",
    "p2 = 1 - (p0+p1)\n",
    "print(p0, p1, p2)\n"
   ]
  },
  {
   "cell_type": "code",
   "execution_count": null,
   "metadata": {},
   "outputs": [],
   "source": [
    "(2*p0 + p1)**2 + 4 * p0 * (p0+p1+p2)"
   ]
  },
  {
   "cell_type": "code",
   "execution_count": null,
   "metadata": {},
   "outputs": [],
   "source": [
    "m = ((2*p0 + p1) + np.sqrt((2*p0 + p1)**2 - 4 * p0 * (p0+p1+p2))) / (2 * (p0+p1+p2))\n",
    "print(m)"
   ]
  },
  {
   "cell_type": "code",
   "execution_count": null,
   "metadata": {},
   "outputs": [],
   "source": [
    "rol_per_cells = np.sum(cnt_array, axis=1)\n",
    "bar_per_cells = np.sum(cnt_array > 0, axis=1)\n",
    "bar_per_good_cells = np.sum(cnt_array > 5, axis=1)\n",
    "cell_per_barcode = np.sum(cnt_array > 0, axis=0)\n",
    "good_cell_per_barcode = np.sum(cnt_array > 5, axis=0)\n",
    "rol_per_barcodew = np.sum(cnt_array, axis=0)\n",
    "\n",
    "fig = plt.figure(figsize=(7, 4))\n",
    "ax = fig.add_subplot(2, 2, 1)\n",
    "ax.hist(rol_per_cells, bins=np.arange(0, rol_per_cells.max(), 1), log=True)\n",
    "ax.set_xlabel('Rolonies per cell')\n",
    "ax = fig.add_subplot(2, 2, 2)\n",
    "ax.hist(rol_per_cells, bins=np.arange(0, rol_per_cells.max(), 1), log=False)\n",
    "ax.set_xlabel('Rolonies per cell')\n",
    "ax = fig.add_subplot(2, 2, 3)\n",
    "ax.hist(good_cell_per_barcode, bins=np.arange(0, good_cell_per_barcode.max()+1, 1)-0.5)\n",
    "ax.set_xlabel('Cells per barcode (count > 5)')\n"
   ]
  },
  {
   "cell_type": "code",
   "execution_count": null,
   "metadata": {},
   "outputs": [],
   "source": [
    "p2 = 0.36 * (1-0.85) **2\n",
    "p1 = 0.64* 0.15 + 2 *0.36 * 0.85*0.15\n",
    "print(p2, p1)"
   ]
  },
  {
   "cell_type": "code",
   "execution_count": null,
   "metadata": {},
   "outputs": [],
   "source": [
    "good_cells = cnt_array[cnt_array.max(axis=1)> 5, :]\n",
    "rol_per_cells = np.sum(good_cells, axis=1)\n",
    "bar_per_cells = np.sum(good_cells > 0, axis=1)\n",
    "\n",
    "fig = plt.figure(figsize=(7, 4))\n",
    "ax = fig.add_subplot(1, 2, 1)\n",
    "ax.hist(rol_per_cells, bins=np.arange(0, rol_per_cells.max(), 1), log=False)\n",
    "ax.set_xlabel('Rolonies per good cell')\n",
    "ax = fig.add_subplot(1, 2, 2)\n",
    "ax.hist(bar_per_cells, bins=np.arange(0, bar_per_cells.max(), 1), log=False)\n",
    "ax.set_xlabel('Barcode per good cell')\n",
    "fig.tight_layout()\n"
   ]
  },
  {
   "cell_type": "code",
   "execution_count": null,
   "metadata": {},
   "outputs": [],
   "source": [
    "# get masks\n",
    "stitched_mask = issp.pipeline.stitch_registered(data_path + f\"/{chamber}\", prefix='mCherry_1_masks', roi=roi, projection='corrected')\n",
    "bigmask = issp.pipeline.segment.get_big_masks(data_path+ f\"/{chamber}\", roi, stitched_mask, mask_expansion=5)[...,0]"
   ]
  },
  {
   "cell_type": "code",
   "execution_count": null,
   "metadata": {},
   "outputs": [],
   "source": [
    "# filter rolonies\n",
    "import numpy as np\n",
    "# df = all_barcode_spots[(all_barcode_spots[\"chamber\"] == chamber) & (all_barcode_spots[\"roi\"] == roi)]\n",
    "df = err_corr[(err_corr[\"chamber\"] == chamber) & (err_corr[\"roi\"] == roi)]\n"
   ]
  },
  {
   "cell_type": "code",
   "execution_count": null,
   "metadata": {},
   "outputs": [],
   "source": [
    "ylim = [16000,8000]\n",
    "xlim = [12000,18000]\n",
    "plt.figure(figsize=(20, 20))\n",
    "\n",
    "# mask with nan for display\n",
    "m = bigmask.astype(float)\n",
    "m[bigmask == 0] = np.nan\n",
    "\n",
    "\n",
    "plt.imshow(get_stack_part(m, xlim, ylim), interpolation='none', alpha=0.5, cmap='prism', extent=[xlim[0], xlim[1], ylim[0], ylim[1]])\n",
    "sp = get_spot_part(df, xlim, ylim)\n",
    "plt.scatter(sp[\"x\"], sp[\"y\"],alpha=0.5, s=1, color='k')\n"
   ]
  },
  {
   "cell_type": "code",
   "execution_count": null,
   "metadata": {},
   "outputs": [],
   "source": [
    "cell_df = issp.pipeline.segment.make_cell_dataframe(data_path+ f'/{chamber}', roi, masks=bigmask, mask_expansion=0, atlas_size=10)\n",
    "cell_df.head()"
   ]
  },
  {
   "cell_type": "code",
   "execution_count": null,
   "metadata": {},
   "outputs": [],
   "source": [
    "analysis_folder"
   ]
  },
  {
   "cell_type": "code",
   "execution_count": null,
   "metadata": {},
   "outputs": [],
   "source": [
    "cell_df.to_pickle(analysis_folder / f\"cell_df_{chamber}_{roi}.pkl\")"
   ]
  },
  {
   "cell_type": "code",
   "execution_count": null,
   "metadata": {},
   "outputs": [],
   "source": [
    "barcode_in_cells = issp.segment.cells.count_spots(df.copy(), grouping_column='corrected_bases', masks=bigmask[...,0])\n",
    "barcode_in_cells.head()"
   ]
  },
  {
   "cell_type": "code",
   "execution_count": null,
   "metadata": {},
   "outputs": [],
   "source": [
    "cell_df.index.name = 'mask_id'\n",
    "cell_barcode "
   ]
  },
  {
   "cell_type": "code",
   "execution_count": null,
   "metadata": {},
   "outputs": [],
   "source": [
    "bcm = barcode_in_cells.values[1:,:]\n",
    "plt.figure(figsize=(7, 2))\n",
    "plt.suptitle(f\"Chamber {chamber}, roi {roi}\")\n",
    "plt.subplot(1, 3, 1)\n",
    "plt.hist(bcm.sum(axis=1), bins=np.arange(0,30,2))\n",
    "plt.ylabel('Number of cells')\n",
    "plt.xlabel('Number of spots\\n(all barcodes)')\n",
    "plt.subplot(1, 3, 2)\n",
    "plt.hist(bcm.max(axis=1), bins=np.arange(0,30,2))\n",
    "plt.ylabel('Number of cells')\n",
    "plt.xlabel('Number of spots\\n(most abundant barcode)')\n",
    "plt.subplot(1, 3, 3)\n",
    "plt.hist(np.sum(bcm != 0, axis=1), bins=np.arange(0,10,1)-0.5)\n",
    "plt.ylabel('Number of cells')\n",
    "plt.xlabel('Number of\\ndifferent barcodes')\n",
    "plt.tight_layout()"
   ]
  },
  {
   "cell_type": "code",
   "execution_count": null,
   "metadata": {},
   "outputs": [],
   "source": [
    "plt.scatter(bcm.sum(axis=1), np.sum(bcm != 0, axis=1), c=bcm.max(axis=1))\n",
    "plt.colorbar()"
   ]
  },
  {
   "cell_type": "code",
   "execution_count": null,
   "metadata": {},
   "outputs": [],
   "source": [
    "ylim = [16000,8000]\n",
    "xlim = [12000,18000]\n",
    "plt.figure(figsize=(20, 20))\n",
    "\n",
    "# mask with nan for display\n",
    "m = bigmask.astype(float)\n",
    "m[bigmask == 0] = np.nan\n",
    "\n",
    "\n",
    "plt.imshow(m, interpolation='none', alpha=0.5, cmap='prism')\n",
    "\n",
    "plt.scatter(df[\"x\"], df[\"y\"],alpha=0.5, s=1, color='k')\n",
    "plt.xlim(xlim)\n",
    "plt.ylim(ylim)\n"
   ]
  },
  {
   "cell_type": "code",
   "execution_count": null,
   "metadata": {},
   "outputs": [],
   "source": []
  },
  {
   "cell_type": "code",
   "execution_count": null,
   "metadata": {},
   "outputs": [],
   "source": []
  },
  {
   "cell_type": "code",
   "execution_count": null,
   "metadata": {},
   "outputs": [],
   "source": [
    "\n",
    "\n",
    "ops = issp.io.load_ops(data_path + f'/{chamber}')\n",
    "tile = ops['mcherry_ref_tile']"
   ]
  },
  {
   "cell_type": "code",
   "execution_count": null,
   "metadata": {},
   "outputs": [],
   "source": [
    "# Load the mCherry masks\n",
    "import numpy as np\n",
    "import matplotlib.pyplot as plt\n",
    "processed = issp.io.get_processed_path(data_path)\n",
    "tname = \"_\".join([str(t) for t in tile])\n",
    "masks_file = processed / chamber / \"cells\" / f\"mCherry_1_masks_corrected_{tname}.npy\"\n",
    "masks = np.load(masks_file)\n",
    "m = masks.astype(float)\n",
    "m[m == 0] = np.nan\n",
    "plt.imshow(m, interpolation='None', cmap='prism')"
   ]
  },
  {
   "cell_type": "code",
   "execution_count": null,
   "metadata": {},
   "outputs": [],
   "source": [
    "# Warp into ref coordinages\n",
    "masks_file = processed / chamber / \"cells\" / f\"mCherry_1_masks_corrected_{tname}.npy\"\n",
    "masks = np.load(masks_file)\n",
    "warped_mask, bad_pixels = issp.pipeline.stitch.warp_stack_to_ref(masks, data_path+ f'/{chamber}', prefix='mCherry_1', tile_coors=tile, interpolation=0)\n",
    "wm = warped_mask.astype(float)\n",
    "wm[wm == 0] = np.nan\n",
    "plt.imshow(wm[...,0,0], interpolation='None', cmap='prism')"
   ]
  },
  {
   "cell_type": "code",
   "execution_count": null,
   "metadata": {},
   "outputs": [],
   "source": [
    "# get tile corners\n",
    "\n",
    "tile_origin"
   ]
  },
  {
   "cell_type": "code",
   "execution_count": null,
   "metadata": {},
   "outputs": [],
   "source": [
    "ok = (err_corr.chamber == chamber) & (err_corr['tile'] == '_'.join([str(t) for t in tile]))\n",
    "bc = err_corr[ok]\n",
    "tc = issp.pipeline.stitch.get_tile_corners(data_path + f'/{chamber}', prefix=ops['reference_prefix'], roi=tile[0])\n",
    "tc = tc[tile[1], tile[2]]\n",
    "tile_origin = tc[:,0]\n",
    "plt.imshow(wm[...,0,0], interpolation='None', cmap='prism', alpha=0.5)\n",
    "plt.scatter(bc.x-tile_origin[1], bc.y-tile_origin[0], s=1, color='k', alpha=0.5)"
   ]
  },
  {
   "cell_type": "code",
   "execution_count": null,
   "metadata": {},
   "outputs": [],
   "source": []
  },
  {
   "cell_type": "code",
   "execution_count": null,
   "metadata": {},
   "outputs": [],
   "source": [
    "issp.pipeline.segment.make_cell_dataframe(data_path, roi, masks=None, mask_expansion=5.0, atlas_size=10)"
   ]
  }
 ],
 "metadata": {
  "kernelspec": {
   "language": "python"
  },
  "language_info": {
   "codemirror_mode": {
    "name": "ipython",
    "version": 3
   },
   "file_extension": ".py",
   "mimetype": "text/x-python",
   "name": "python",
   "nbconvert_exporter": "python",
   "pygments_lexer": "ipython3"
  }
 },
 "nbformat": 4,
 "nbformat_minor": 2
}
