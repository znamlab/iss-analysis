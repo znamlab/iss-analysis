{
 "cells": [
  {
   "cell_type": "markdown",
   "metadata": {},
   "source": [
    "# Look at barcode diversity in real life"
   ]
  },
  {
   "cell_type": "code",
   "execution_count": null,
   "metadata": {},
   "outputs": [],
   "source": [
    "%load_ext autoreload\n",
    "%autoreload 2"
   ]
  },
  {
   "cell_type": "code",
   "execution_count": null,
   "metadata": {},
   "outputs": [],
   "source": [
    "import iss_preprocess as issp\n",
    "import iss_analysis as issa\n",
    "from iss_analysis.barcodes import barcodes as bar\n",
    "from iss_analysis.barcodes.diagnostics import (\n",
    "    plot_gmm_clusters,\n",
    "    plot_error_along_sequence,\n",
    ")\n",
    "import matplotlib.pyplot as plt\n",
    "import numpy as np\n",
    "import pandas as pd"
   ]
  },
  {
   "cell_type": "markdown",
   "metadata": {},
   "source": [
    "# Get data\n",
    "\n",
    "## Get all the barcode and filter with GMM"
   ]
  },
  {
   "cell_type": "code",
   "execution_count": null,
   "metadata": {},
   "outputs": [],
   "source": [
    "project = \"becalia_rabies_barseq\"\n",
    "mouse = \"BRAC8498.3e\"\n",
    "data_path = f\"{project}/{mouse}\"\n",
    "analysis_folder = issp.io.get_processed_path(data_path) / \"analysis\"\n",
    "analysis_folder.mkdir(exist_ok=True)"
   ]
  },
  {
   "cell_type": "markdown",
   "metadata": {},
   "source": [
    "### [Optional] Filter valid barcode rolonies with GMM\n",
    "\n",
    "This has been removed. It's better to apply harsher threshold and keep only decent \n",
    "cells. See the end of the notebook for the code if you change your mind."
   ]
  },
  {
   "cell_type": "markdown",
   "metadata": {},
   "source": [
    "## Re-run error correction"
   ]
  },
  {
   "cell_type": "code",
   "execution_count": null,
   "metadata": {},
   "outputs": [],
   "source": [
    "# Re-run error correction\n",
    "from pathlib import Path\n",
    "\n",
    "if False:\n",
    "    slurm_folder = Path.home() / \"slurm_logs\" / data_path\n",
    "    job_ids = []\n",
    "    for edit_distance in [1, 2]:  # range(3):\n",
    "        for nrounds in [10]:  # range(10, 15):\n",
    "            weights = np.ones(14)\n",
    "            weights[nrounds:] = 0\n",
    "            jid = issa.barcodes.error_correct_acquisition(\n",
    "                project,\n",
    "                mouse,\n",
    "                mean_intensity_threshold=0.03,\n",
    "                dot_product_score_threshold=0.2,\n",
    "                mean_score_threshold=0.9,\n",
    "                use_gmm=False,\n",
    "                n_components=1,\n",
    "                valid_components=(0),\n",
    "                max_edit_distance=edit_distance,\n",
    "                weights=list(weights),\n",
    "                minimum_match=max(np.sum(weights) - edit_distance - 1, 0),\n",
    "                verbose=True,\n",
    "                conflicts=\"append\",\n",
    "                use_slurm=True,\n",
    "            )\n",
    "            job_ids.append(jid)\n",
    "    print(job_ids)"
   ]
  },
  {
   "cell_type": "markdown",
   "metadata": {},
   "source": [
    "### Show which parameters are used for error correction datasets"
   ]
  },
  {
   "cell_type": "code",
   "execution_count": null,
   "metadata": {},
   "outputs": [],
   "source": [
    "import flexiznam as flz\n",
    "\n",
    "flm_sess = flz.get_flexilims_session(project_id=project, reuse_token=True)\n",
    "mouse_entity = flz.get_entity(name=mouse, datatype=\"mouse\", flexilims_session=flm_sess)\n",
    "error_datasets = flz.get_datasets(\n",
    "    flexilims_session=flm_sess,\n",
    "    origin_id=mouse_entity.id,\n",
    "    return_dataseries=True,\n",
    "    dataset_type=\"error_corrected_barcodes\",\n",
    ")\n",
    "print(f\"Fetched {len(error_datasets)} datasets\")\n",
    "# Compile a list of arguments for the \"correct_barcode_sequences\" column\n",
    "# These are the arguments fwded to the actual correction function\n",
    "keys = list(error_datasets.correct_barcode_sequences.values[0].keys())\n",
    "arg_df = pd.DataFrame(index=error_datasets.index, columns=keys)\n",
    "for l, row in error_datasets.iterrows():\n",
    "    for k in keys:\n",
    "        arg_df.loc[l, k] = row.correct_barcode_sequences[k]\n",
    "arg_df[\"n_rounds\"] = arg_df.weights.map(np.sum)\n",
    "arg_df.head()"
   ]
  },
  {
   "cell_type": "code",
   "execution_count": null,
   "metadata": {},
   "outputs": [],
   "source": [
    "# Look at the one we want\n",
    "arg_df[(arg_df.max_edit_distance == 2) & (arg_df.n_rounds == 10)].head()"
   ]
  },
  {
   "cell_type": "markdown",
   "metadata": {},
   "source": [
    "# Re-run barcode assignment"
   ]
  },
  {
   "cell_type": "code",
   "execution_count": null,
   "metadata": {},
   "outputs": [],
   "source": [
    "error_correction_ds_name = \"BRAC8498.3e_error_corrected_barcodes_26\"\n",
    "mouse = \"BRAC8498.3e\"\n",
    "if False:\n",
    "    issa.barcodes.assign_barcode_all_chambers(\n",
    "        project,\n",
    "        mouse_name=mouse,\n",
    "        error_correction_ds_name=error_correction_ds_name,\n",
    "        base_column=\"corrected_bases\",\n",
    "        method=\"spot_by_spot\",\n",
    "        parameters=dict(\n",
    "            p=0.9,\n",
    "            m=0.1,\n",
    "            background_spot_prior=0.0001,\n",
    "            spot_distribution_sigma=50,\n",
    "            max_iterations=100,\n",
    "            max_distance_to_mask=400,\n",
    "            inter_spot_distance_threshold=50,\n",
    "            max_spot_group_size=5,\n",
    "            max_total_combinations=2e6,\n",
    "            run_by_groupsize=False,\n",
    "        ),\n",
    "        valid_chambers=None,\n",
    "        verbose=3,\n",
    "        use_slurm=True,\n",
    "        conflicts=\"append\",\n",
    "        n_workers=50,\n",
    "    )"
   ]
  },
  {
   "cell_type": "code",
   "execution_count": null,
   "metadata": {},
   "outputs": [],
   "source": [
    "import flexiznam as flz\n",
    "\n",
    "flm_sess = flz.get_flexilims_session(project_id=project, reuse_token=True)\n",
    "mouse_series = flz.get_entity(name=mouse, datatype=\"mouse\", flexilims_session=flm_sess)\n",
    "mask_assignments = flz.get_datasets_recursively(\n",
    "    origin_id=mouse_series.id,\n",
    "    dataset_type=\"barcodes_mask_assignment\",\n",
    "    flexilims_session=flm_sess,\n",
    ")\n",
    "print(f\"Fetched {len(mask_assignments)} chambers with mask assignments\")"
   ]
  },
  {
   "cell_type": "code",
   "execution_count": null,
   "metadata": {},
   "outputs": [],
   "source": []
  },
  {
   "cell_type": "markdown",
   "metadata": {},
   "source": [
    "# [optional] save for manual inspection"
   ]
  },
  {
   "cell_type": "code",
   "execution_count": null,
   "metadata": {},
   "outputs": [],
   "source": [
    "from pathlib import Path\n",
    "\n",
    "if False:\n",
    "    slurm_folder = Path.home() / \"slurm_logs\" / project / mouse / \"manual_clicking\"\n",
    "    slurm_folder.mkdir(parents=True, exist_ok=True)\n",
    "    for chamber in [f\"chamber_{i:02}\" for i in range(7, 11)]:\n",
    "        for roi in range(1, 11):\n",
    "            print(\"\\n\\n\\n\")\n",
    "            print(f\"Processing {chamber} ROI {roi}\")\n",
    "            issa.segment.save_stitched_for_manual_clicking(\n",
    "                project,\n",
    "                mouse,\n",
    "                chamber=chamber,\n",
    "                roi=roi,\n",
    "                error_correction_ds_name=\"BRAC8498.3e_error_corrected_barcodes_26\",\n",
    "                redo=False,\n",
    "                save_imgs=True,\n",
    "                save_rabies_masks=True,\n",
    "                save_spots=True,\n",
    "                save_mcherry_masks=True,\n",
    "                use_slurm=True,\n",
    "                slurm_folder=slurm_folder,\n",
    "                scripts_name=f\"manual_clicking_{chamber}_{roi}\",\n",
    "                correct_illumination=True,\n",
    "            )"
   ]
  },
  {
   "cell_type": "code",
   "execution_count": null,
   "metadata": {},
   "outputs": [],
   "source": [
    "if False:\n",
    "    for chamber in [f\"chamber_{i:02}\" for i in range(7, 11)]:\n",
    "        issp.pipeline.segment_and_stitch_mcherry_cells(\n",
    "            data_path=f\"{project}/{mouse}/{chamber}\", prefix=\"mCherry_1\"\n",
    "        )"
   ]
  },
  {
   "cell_type": "markdown",
   "metadata": {},
   "source": [
    "# Load data"
   ]
  },
  {
   "cell_type": "code",
   "execution_count": null,
   "metadata": {},
   "outputs": [],
   "source": [
    "from iss_analysis import segment\n",
    "\n",
    "(\n",
    "    rab_spot_df,\n",
    "    rab_cells_barcodes,\n",
    "    rab_cells_properties,\n",
    ") = issa.segment.get_barcode_in_cells(\n",
    "    project,\n",
    "    mouse,\n",
    "    error_correction_ds_name,\n",
    "    valid_chambers=None,\n",
    "    save_folder=None,\n",
    "    verbose=True,\n",
    ")"
   ]
  },
  {
   "cell_type": "code",
   "execution_count": null,
   "metadata": {},
   "outputs": [],
   "source": [
    "rab_cells_properties.head()"
   ]
  },
  {
   "cell_type": "code",
   "execution_count": null,
   "metadata": {},
   "outputs": [],
   "source": [
    "seq = np.vstack(rab_spot_df.sequence.values)\n",
    "seq.shape"
   ]
  },
  {
   "cell_type": "code",
   "execution_count": null,
   "metadata": {},
   "outputs": [],
   "source": [
    "uniq_seq, counts = np.unique(seq, return_counts=True, axis=0)"
   ]
  },
  {
   "cell_type": "code",
   "execution_count": null,
   "metadata": {},
   "outputs": [],
   "source": [
    "uniq_seq"
   ]
  },
  {
   "cell_type": "code",
   "execution_count": null,
   "metadata": {},
   "outputs": [],
   "source": [
    "prop = np.cumsum(np.sort(counts)[::-1]) / np.sum(counts)\n",
    "plt.plot(prop)"
   ]
  },
  {
   "cell_type": "code",
   "execution_count": null,
   "metadata": {},
   "outputs": [],
   "source": [
    "main_seq = uniq_seq[:30, :]\n",
    "main_seq.shape"
   ]
  },
  {
   "cell_type": "code",
   "execution_count": null,
   "metadata": {},
   "outputs": [],
   "source": [
    "main_seq.shape[1]"
   ]
  },
  {
   "cell_type": "code",
   "execution_count": null,
   "metadata": {},
   "outputs": [],
   "source": [
    "from scipy.spatial.distance import pdist\n",
    "from scipy.cluster.hierarchy import linkage, dendrogram\n",
    "\n",
    "distance_matrix = pdist(main_seq, metric=\"hamming\")\n",
    "distance_matrix.shape"
   ]
  },
  {
   "cell_type": "code",
   "execution_count": null,
   "metadata": {},
   "outputs": [],
   "source": [
    "seq_label = []\n",
    "for s in main_seq:\n",
    "    dst = np.sum((seq - s) == 0, axis=1)\n",
    "    seq_label.append(rab_spot_df.loc[dst == 0].iloc[0].bases)"
   ]
  },
  {
   "cell_type": "code",
   "execution_count": null,
   "metadata": {},
   "outputs": [],
   "source": [
    "linked = linkage(distance_matrix, \"ward\")\n",
    "\n",
    "# 3. (Optional) Visualize the dendrogram.\n",
    "plt.figure(figsize=(10, 7))\n",
    "dendrogram(\n",
    "    linked,\n",
    "    orientation=\"top\",\n",
    "    distance_sort=\"descending\",\n",
    "    labels=seq_label,\n",
    "    show_leaf_counts=True,\n",
    ")\n",
    "plt.title(\"Hierarchical Clustering Dendrogram (Hamming Distance)\")\n",
    "plt.xlabel(\"Sequences\")\n",
    "plt.ylabel(\"Distance (Hamming Fraction)\")\n",
    "plt.show()"
   ]
  },
  {
   "cell_type": "code",
   "execution_count": null,
   "metadata": {},
   "outputs": [],
   "source": [
    "37889 / len(seq) * 100"
   ]
  },
  {
   "cell_type": "code",
   "execution_count": null,
   "metadata": {},
   "outputs": [],
   "source": [
    "plt.plot(np.sort(counts)[::-1])\n",
    "plt.semilogy()\n",
    "plt.xlabel(\"Sequence index\")\n",
    "plt.ylabel(\"Rolony count\")"
   ]
  },
  {
   "cell_type": "code",
   "execution_count": null,
   "metadata": {},
   "outputs": [],
   "source": [
    "(\n",
    "    mcherry_cell_properties,\n",
    "    rabies_spot_df,\n",
    "    rabies_cell_properties,\n",
    ") = issa.segment.match_starter_to_barcodes(\n",
    "    project=\"becalia_rabies_barseq\",\n",
    "    mouse=\"BRAC8498.3e\",\n",
    "    rabies_cell_properties=rab_cells_properties,\n",
    "    rab_spot_df=rab_spot_df,\n",
    "    mcherry_cells=None,  ################################### USING CURATED MCHERRY CELLS BY DEFAULT AND USING MASK METHOD NOT SPOT\n",
    "    which=\"curated\",\n",
    "    method=\"masks\",\n",
    "    verbose=True,\n",
    "    max_starter_distance=0.5,  # distance to mask borders in um\n",
    "    min_spot_number=3,  # minimum number of spots to consider a mcherry cells starter\n",
    "    min_percentage_in_mask=10,  # minimum percentage of spots in mask to consider a mcherry cells starter\n",
    "    mcherry_prefix=\"mCherry_1\",  # acquisition prefix for mCherry images\n",
    ")"
   ]
  },
  {
   "cell_type": "code",
   "execution_count": null,
   "metadata": {},
   "outputs": [],
   "source": [
    "starters = rabies_cell_properties.query(\"is_starter == True\")\n",
    "print(f\"{len(starters)}/{len(rabies_cell_properties)} starter cells\")"
   ]
  },
  {
   "cell_type": "code",
   "execution_count": null,
   "metadata": {},
   "outputs": [],
   "source": [
    "442 + 89 + 19 + 5 + 7 + 11"
   ]
  },
  {
   "cell_type": "code",
   "execution_count": null,
   "metadata": {},
   "outputs": [],
   "source": [
    "bcs = rabies_cell_properties.all_barcodes.map(set)"
   ]
  },
  {
   "cell_type": "code",
   "execution_count": null,
   "metadata": {},
   "outputs": [],
   "source": [
    "bcs = rabies_cell_properties.all_barcodes.map(set)\n",
    "all_bcs = set()\n",
    "for bc in bcs.values:\n",
    "    all_bcs = all_bcs.union(bc)\n",
    "print(len(all_bcs))"
   ]
  },
  {
   "cell_type": "code",
   "execution_count": null,
   "metadata": {},
   "outputs": [],
   "source": [
    "ncellperbc = np.zeros(len(all_bcs))\n",
    "nstarterperbc = np.zeros(len(all_bcs))\n",
    "for ibc, bc in enumerate(all_bcs):\n",
    "    valid_cells = rabies_cell_properties.all_barcodes.map(\n",
    "        lambda x: len(x.intersetion(bc)) > 0\n",
    "    )\n",
    "    ncellperbc[ibc] = valid_cells.sum()\n",
    "    nstarterperbc[ibc] = (valid_cells & rabies_cell_properties.is_starter).sum()"
   ]
  },
  {
   "cell_type": "markdown",
   "metadata": {},
   "source": []
  },
  {
   "cell_type": "code",
   "execution_count": null,
   "metadata": {},
   "outputs": [],
   "source": [
    "np.__version__"
   ]
  },
  {
   "cell_type": "code",
   "execution_count": null,
   "metadata": {},
   "outputs": [],
   "source": [
    "mcherry_cell_properties, rab_spot_df, rabies_cell_properties = (\n",
    "    issa.segment.match_starter_to_barcodes(\n",
    "        project,\n",
    "        mouse,\n",
    "        rab_cells_properties,\n",
    "        rab_spot_df,\n",
    "        mcherry_cells=None,\n",
    "        verbose=True,\n",
    "        max_starter_distance=0.5,  # distance to mask borders in um\n",
    "        min_spot_number=3,  # minimum number of spots to consider a mcherry cells starter\n",
    "        min_percentage_in_mask=10,  # minimum percentage of spots in mask to consider a mcherry cells starter\n",
    "        mcherry_prefix=\"mCherry_1\",  # acquisition prefix for mCherry images\n",
    "    )\n",
    ")"
   ]
  },
  {
   "cell_type": "code",
   "execution_count": null,
   "metadata": {},
   "outputs": [],
   "source": [
    "rabies_cell_properties"
   ]
  },
  {
   "cell_type": "code",
   "execution_count": null,
   "metadata": {},
   "outputs": [],
   "source": [
    "starters_df = rabies_cell_properties.query(\"is_starter == True\")"
   ]
  },
  {
   "cell_type": "code",
   "execution_count": null,
   "metadata": {},
   "outputs": [],
   "source": [
    "all_barcodes = set()\n",
    "for bc in rabies_cell_properties.all_barcodes.values:\n",
    "    all_barcodes = all_barcodes.union(list(bc))\n",
    "print(f\"{len(all_barcodes)} unique barcodes\")"
   ]
  },
  {
   "cell_type": "code",
   "execution_count": null,
   "metadata": {},
   "outputs": [],
   "source": [
    "rabies_cell_properties.all_barcodes.isna().sum()"
   ]
  },
  {
   "cell_type": "markdown",
   "metadata": {},
   "source": [
    "# Check assignment properties\n",
    "\n",
    "How many spots per cell? How many barcode per cell?"
   ]
  },
  {
   "cell_type": "code",
   "execution_count": null,
   "metadata": {},
   "outputs": [],
   "source": [
    "fig = plt.figure(figsize=(5, 3))\n",
    "ax = fig.add_subplot(111)\n",
    "ax.hist(\n",
    "    mcherry_cell_properties.n_barcode_spots,\n",
    "    bins=np.arange(36) - 0.5,\n",
    "    log=True,\n",
    "    cumulative=False,\n",
    "    color=\"tomato\",\n",
    ")\n",
    "ax.set_xlabel(\"Number of barcode spots\")\n",
    "ax.set_ylabel(\"Number of mCherry cells\")\n",
    "ax.set_xlim(-0.6, 35)"
   ]
  },
  {
   "cell_type": "code",
   "execution_count": null,
   "metadata": {},
   "outputs": [],
   "source": [
    "assigned_spot = rab_spot_df.query(\"cell_mask > -1\")\n",
    "spot_per_cell = assigned_spot[[\"mask_uid\", \"cell_mask\"]].groupby(\"mask_uid\").agg(len)\n",
    "spot_per_cell.columns = [\"n_spots\"]\n",
    "spot_per_cell.head()\n",
    "\n",
    "fig, axes = plt.subplots(1, 2, figsize=(10, 4))\n",
    "_ = axes[0].hist(\n",
    "    spot_per_cell.n_spots,\n",
    "    bins=np.arange(spot_per_cell.n_spots.max() + 1) - 0.5,\n",
    "    log=True,\n",
    ")\n",
    "axes[0].set_xlim(0, spot_per_cell.n_spots.max())\n",
    "axes[0].set_xlabel(\"Number of spots per cell\")\n",
    "axes[0].set_ylabel(\"Number of rabies cells\")\n",
    "\n",
    "_ = axes[1].hist(spot_per_cell.n_spots, bins=np.arange(20) - 0.5)\n",
    "axes[1].set_xlim(0, 20)\n",
    "axes[1].set_xlabel(\"Number of spots per cell\")\n",
    "axes[1].set_ylabel(\"Number of rabies cells\")\n",
    "axes[1].set_xticks(np.arange(20).astype(int))\n",
    "fig.tight_layout()\n",
    "\n",
    "# Now same for mCherry cells"
   ]
  },
  {
   "cell_type": "code",
   "execution_count": null,
   "metadata": {},
   "outputs": [],
   "source": [
    "all_bc = rab_spot_df.corrected_bases.unique()\n",
    "\n",
    "n_rab = np.zeros(len(all_bc))\n",
    "n_start = np.zeros(len(all_bc))\n",
    "for ibc, bc in enumerate(all_bc):\n",
    "    rab_cells = rabies_cell_properties.all_barcodes.map(\n",
    "        lambda x: any([i == bc for i in x])\n",
    "    )\n",
    "    n_rab[ibc] = rab_cells.sum()\n",
    "    n_start[ibc] = rabies_cell_properties[rab_cells].is_starter.sum()\n",
    "\n",
    "valid_bc = n_rab > 5\n",
    "fig, axes = plt.subplots(1, 2, figsize=(10, 3))\n",
    "# axes[0].hist(n_rab, bins = np.arange(n_rab.max()+1)-0.5, log=True, color='grey')\n",
    "\n",
    "axes[0].hist(n_rab[valid_bc], bins=np.arange(n_rab.max() + 1) - 0.5, log=True)\n",
    "axes[0].set_xlabel(\"Number of rabies cells\")\n",
    "axes[0].set_ylabel(\"Number of barcodes\")\n",
    "# axes[1].hist(n_start, color='grey', bins = np.arange(n_start.max()+1)-0.5, log=False)\n",
    "axes[1].hist(\n",
    "    n_start[valid_bc],\n",
    "    color=\"tomato\",\n",
    "    bins=np.arange(n_start.max() + 1) - 0.5,\n",
    "    log=False,\n",
    ")\n",
    "axes[1].set_xlabel(\"Number of starter cells\")\n",
    "axes[1].set_ylabel(\"Number of barcodes\")\n",
    "fig.suptitle(\"Including only barcodes with more than 5 cells (min 3 spots per cell)\")"
   ]
  },
  {
   "cell_type": "code",
   "execution_count": null,
   "metadata": {},
   "outputs": [],
   "source": [
    "assigned_spots = rab_spot_df.query(\"cell_mask > -1\")\n",
    "spot_per_cell = assigned_spots[[\"mask_uid\", \"cell_mask\"]].groupby(\"mask_uid\").agg(len)\n",
    "spot_per_cell.columns = [\"n_spots\"]\n",
    "has_spot_over_mcherry_mask = (\n",
    "    assigned_spot[[\"mask_uid\", \"mcherry_mask_label\"]].groupby(\"mask_uid\").agg(\"sum\") > 0\n",
    ")\n",
    "valid_cells = spot_per_cell.query(\"n_spots > 5\").index\n",
    "\n",
    "rab_spot_df_5rol = rab_spot_df.query(\"cell_mask > -1 and mask_uid in @valid_cells\")\n",
    "rab_cells_properties_5rol = rab_cells_properties.query(\n",
    "    \"mask_uid in @valid_cells\"\n",
    ").copy()\n",
    "rab_cells_properties_5rol[\"could_be_starter\"] = has_spot_over_mcherry_mask.loc[\n",
    "    rab_cells_properties_5rol.index\n",
    "].values\n",
    "\n",
    "all_bc = rab_spot_df_5rol.corrected_bases.unique()\n",
    "\n",
    "n_rab = np.zeros(len(all_bc))\n",
    "n_start = np.zeros(len(all_bc))\n",
    "for ibc, bc in enumerate(all_bc):\n",
    "    rab_cells = rab_cells_properties_5rol.all_barcodes.map(\n",
    "        lambda x: any([i == bc for i in x])\n",
    "    )\n",
    "    n_rab[ibc] = rab_cells.sum()\n",
    "    n_start[ibc] = rab_cells_properties_5rol[rab_cells].could_be_starter.sum()\n",
    "\n",
    "valid_bc = n_rab > 5\n",
    "fig, axes = plt.subplots(1, 2, figsize=(10, 3))\n",
    "# axes[0].hist(n_rab, bins = np.arange(n_rab.max()+1)-0.5, log=True, color='grey')\n",
    "print(f\"{n_rab[valid_bc].sum()} cells\")\n",
    "print(f\"{n_start[valid_bc].sum()} starters\")\n",
    "axes[0].hist(n_rab[valid_bc], bins=np.arange(n_rab.max() + 1) - 0.5, log=True)\n",
    "axes[0].set_xlabel(\"Number of rabies cells\")\n",
    "axes[0].set_ylabel(\"Number of barcodes\")\n",
    "# axes[1].hist(n_start, color='grey', bins = np.arange(n_start.max()+1)-0.5, log=False)\n",
    "axes[1].hist(\n",
    "    n_start[valid_bc],\n",
    "    color=\"tomato\",\n",
    "    bins=np.arange(n_start.max() + 1) - 0.5,\n",
    "    log=False,\n",
    ")\n",
    "axes[1].set_xlabel(\"Number of starter cells\")\n",
    "axes[1].set_ylabel(\"Number of barcodes\")\n",
    "fig.suptitle(\n",
    "    \"Including only barcodes with more than 5 cells (min 5 spots per cell) - 1 spot over mCherry\"\n",
    ")"
   ]
  },
  {
   "cell_type": "code",
   "execution_count": null,
   "metadata": {},
   "outputs": [],
   "source": [
    "assigned_spots = rab_spot_df.query(\"cell_mask > -1\")\n",
    "spot_per_cell = assigned_spots[[\"mask_uid\", \"cell_mask\"]].groupby(\"mask_uid\").agg(len)\n",
    "spot_per_cell.columns = [\"n_spots\"]\n",
    "valid_cells = spot_per_cell.query(\"n_spots > 5\").index\n",
    "\n",
    "rab_spot_df_5rol = rab_spot_df.query(\"cell_mask > -1 and mask_uid in @valid_cells\")\n",
    "rab_cells_properties_5rol = rab_cells_properties.query(\"mask_uid in @valid_cells\")\n",
    "\n",
    "all_bc = rab_spot_df_5rol.corrected_bases.unique()\n",
    "\n",
    "n_rab = np.zeros(len(all_bc))\n",
    "n_start = np.zeros(len(all_bc))\n",
    "for ibc, bc in enumerate(all_bc):\n",
    "    rab_cells = rab_cells_properties_5rol.all_barcodes.map(\n",
    "        lambda x: any([i == bc for i in x])\n",
    "    )\n",
    "    n_rab[ibc] = rab_cells.sum()\n",
    "    n_start[ibc] = rab_cells_properties_5rol[rab_cells].is_starter.sum()\n",
    "\n",
    "valid_bc = n_rab > 5\n",
    "fig, axes = plt.subplots(1, 2, figsize=(10, 3))\n",
    "# axes[0].hist(n_rab, bins = np.arange(n_rab.max()+1)-0.5, log=True, color='grey')\n",
    "print(f\"{n_rab[valid_bc].sum()} cells\")\n",
    "print(f\"{n_start[valid_bc].sum()} starters\")\n",
    "axes[0].hist(n_rab[valid_bc], bins=np.arange(n_rab.max() + 1) - 0.5, log=True)\n",
    "axes[0].set_xlabel(\"Number of rabies cells\")\n",
    "axes[0].set_ylabel(\"Number of barcodes\")\n",
    "# axes[1].hist(n_start, color='grey', bins = np.arange(n_start.max()+1)-0.5, log=False)\n",
    "axes[1].hist(\n",
    "    n_start[valid_bc],\n",
    "    color=\"tomato\",\n",
    "    bins=np.arange(n_start.max() + 1) - 0.5,\n",
    "    log=False,\n",
    ")\n",
    "axes[1].set_xlabel(\"Number of starter cells\")\n",
    "axes[1].set_ylabel(\"Number of barcodes\")\n",
    "fig.suptitle(\"Including only barcodes with more than 5 cells (min 5 spots per cell)\")"
   ]
  },
  {
   "cell_type": "code",
   "execution_count": null,
   "metadata": {},
   "outputs": [],
   "source": [
    "# Distance to starter betweem cells in the same slice\n",
    "import itertools\n",
    "\n",
    "starter2starter_distances = []\n",
    "starter2presynaptic_distances = []\n",
    "# concatenate chambera and roi to make a slice_uid\n",
    "rab_cells_properties_5rol = rab_cells_properties_5rol.copy()\n",
    "rab_cells_properties_5rol[\"slice_uid\"] = (\n",
    "    rab_cells_properties_5rol.chamber + \"_\" + rab_cells_properties_5rol.roi.astype(str)\n",
    ")\n",
    "for bc, bc_df in rab_cells_properties_5rol.groupby(\"main_barcode\"):\n",
    "    n_starter = bc_df.is_starter.sum()\n",
    "    if not n_starter:\n",
    "        continue\n",
    "    starter_cells = bc_df.query(\"is_starter\")\n",
    "    if len(starter_cells) > 1:\n",
    "        for slice, starters in starter_cells.groupby(\"slice_uid\"):\n",
    "            for combi in itertools.combinations(starters.index, 2):\n",
    "                coords = starters.loc[combi, [\"ara_x\", \"ara_y\", \"ara_z\"]]\n",
    "                starter2starter_distances.append(\n",
    "                    np.linalg.norm(np.diff(coords.values, axis=0))\n",
    "                )\n",
    "    elif len(starter_cells):\n",
    "        starter_coords = starter_cells[[\"ara_x\", \"ara_y\", \"ara_z\"]].values\n",
    "        slice_uid = starter_cells.slice_uid.values[0]\n",
    "        valid = bc_df.query(\"slice_uid == @slice_uid\")\n",
    "        valid = valid[valid.index != starter_cells.index[0]]\n",
    "        cell_coords = valid[[\"ara_x\", \"ara_y\", \"ara_z\"]].values\n",
    "        if len(cell_coords):\n",
    "            starter2presynaptic_distances.append(\n",
    "                np.linalg.norm(starter_coords - cell_coords)\n",
    "            )\n",
    "\n",
    "starter2starter_distances = np.array(starter2starter_distances) * 1000\n",
    "starter2presynaptic_distances = np.array(starter2presynaptic_distances) * 1000\n",
    "\n",
    "h, b, p = plt.hist(\n",
    "    starter2presynaptic_distances,\n",
    "    bins=100,\n",
    "    log=False,\n",
    "    label=\"Presynaptic cells\",\n",
    "    alpha=0.5,\n",
    ")\n",
    "_ = plt.hist(\n",
    "    starter2starter_distances, bins=b, log=False, alpha=0.5, label=\"Starter cells\"\n",
    ")\n",
    "plt.xlabel(\"Distance (um)\")\n",
    "plt.legend()\n",
    "plt.ylabel(\"Number of cells\")\n",
    "plt.suptitle(\"Distance to starter cells (same slice)\")"
   ]
  },
  {
   "cell_type": "code",
   "execution_count": null,
   "metadata": {},
   "outputs": [],
   "source": [
    "# Distance to starter betweem cells in the same slice\n",
    "import itertools\n",
    "\n",
    "starter2starter_distances = []\n",
    "starter2presynaptic_distances = []\n",
    "n2more = 0\n",
    "n1 = 0\n",
    "n0 = 0\n",
    "# concatenate chambera and roi to make a slice_uid\n",
    "rab_cells_properties_5rol = rab_cells_properties_5rol.copy()\n",
    "rab_cells_properties_5rol[\"slice_uid\"] = (\n",
    "    rab_cells_properties_5rol.chamber + \"_\" + rab_cells_properties_5rol.roi.astype(str)\n",
    ")\n",
    "for bc, bc_df in rab_cells_properties_5rol.groupby(\"main_barcode\"):\n",
    "    n_starter = bc_df.is_starter.sum()\n",
    "    if not n_starter:\n",
    "        continue\n",
    "    starter_cells = bc_df.query(\"is_starter\")\n",
    "    if len(starter_cells) == 2:\n",
    "        n2more += 1\n",
    "        for combi in itertools.combinations(starter_cells.index, 2):\n",
    "            coords = starter_cells.loc[combi, [\"ara_x\", \"ara_y\", \"ara_z\"]]\n",
    "            starter2starter_distances.append(\n",
    "                np.linalg.norm(np.diff(coords.values, axis=0))\n",
    "            )\n",
    "    elif len(starter_cells) == 1:\n",
    "        n1 += 1\n",
    "        starter_coords = starter_cells[[\"ara_x\", \"ara_y\", \"ara_z\"]].values\n",
    "        valid = bc_df[bc_df.index != starter_cells.index[0]]\n",
    "        cell_coords = valid[[\"ara_x\", \"ara_y\", \"ara_z\"]].values\n",
    "        if len(cell_coords):\n",
    "            starter2presynaptic_distances.append(\n",
    "                np.linalg.norm(starter_coords - cell_coords)\n",
    "            )\n",
    "    else:\n",
    "        n0 += 1\n",
    "\n",
    "print(f\"More than 1 starter: {n2more}\")\n",
    "print(f\"1 starter: {n1}\")\n",
    "print(f\"0 starter: {n0}\")\n",
    "starter2starter_distances = np.array(starter2starter_distances) * 1000\n",
    "starter2presynaptic_distances = np.array(starter2presynaptic_distances) * 1000\n",
    "\n",
    "h, b, p = plt.hist(\n",
    "    starter2presynaptic_distances,\n",
    "    bins=100,\n",
    "    log=False,\n",
    "    label=\"Presynaptic cells\",\n",
    "    alpha=0.5,\n",
    ")\n",
    "_ = plt.hist(\n",
    "    starter2starter_distances, bins=b, log=False, alpha=0.5, label=\"Starter cells\"\n",
    ")\n",
    "plt.xlabel(\"Distance (um)\")\n",
    "plt.legend()\n",
    "plt.ylabel(\"Number of cells\")\n",
    "plt.suptitle(\"Distance to starter cells (all slices)\")"
   ]
  },
  {
   "cell_type": "markdown",
   "metadata": {},
   "source": [
    "# Debug probabilistic model for rolonie attribution\n",
    "\n",
    "Cells to run it slowly and see how it works"
   ]
  },
  {
   "cell_type": "code",
   "execution_count": null,
   "metadata": {},
   "outputs": [],
   "source": [
    "# get the mask\n",
    "project = \"becalia_rabies_barseq\"\n",
    "mouse_name = \"BRAC8498.3e\"\n",
    "data_path = f\"{project}/{mouse_name}\"\n",
    "chamber = \"chamber_08\"\n",
    "prefix = \"hybridisation_round_3_1\"\n",
    "roi = 1\n",
    "\n",
    "from iss_preprocess.pipeline.segment import get_cell_masks\n",
    "\n",
    "masks = get_cell_masks(data_path=f\"{project}/{mouse_name}/{chamber}\", roi=roi)"
   ]
  },
  {
   "cell_type": "code",
   "execution_count": null,
   "metadata": {},
   "outputs": [],
   "source": [
    "sdf = issp.pipeline.stitch.stitch_cell_dataframes(\n",
    "    data_path=f\"{project}/{mouse}/chamber_08\", prefix=\"mCherry_1\", ref_prefix=None\n",
    ")"
   ]
  },
  {
   "cell_type": "code",
   "execution_count": null,
   "metadata": {},
   "outputs": [],
   "source": [
    "fig = plt.figure(figsize=(20, 10))\n",
    "for roi in range(1, 11):\n",
    "    ax = plt.subplot(2, 5, roi, aspect=\"equal\")\n",
    "    sp = rab_spot_df.query(f\"roi == {roi} & chamber == 'chamber_08'\")\n",
    "    plt.scatter(sp.x, sp.y, s=1, color=\"k\", alpha=0.5)\n",
    "    s = sdf.query(f\"roi == {roi}\")\n",
    "    plt.scatter(s.x, s.y, s=10, color=\"r\", alpha=1)\n",
    "    ax.set_axis_off()\n",
    "fig.tight_layout()"
   ]
  },
  {
   "cell_type": "code",
   "execution_count": null,
   "metadata": {},
   "outputs": [],
   "source": [
    "error_correction_ds_name"
   ]
  },
  {
   "cell_type": "code",
   "execution_count": null,
   "metadata": {},
   "outputs": [],
   "source": [
    "from iss_analysis import segment\n",
    "\n",
    "(\n",
    "    rab_spot_df,\n",
    "    rab_cells_barcodes,\n",
    "    rab_cells_properties,\n",
    ") = issa.segment.get_barcode_in_cells(\n",
    "    project,\n",
    "    mouse,\n",
    "    error_correction_ds_name,\n",
    "    valid_chambers=None,\n",
    "    save_folder=None,\n",
    "    verbose=True,\n",
    ")"
   ]
  },
  {
   "cell_type": "markdown",
   "metadata": {},
   "source": [
    "# DEBUG MATCH STARTER"
   ]
  },
  {
   "cell_type": "code",
   "execution_count": null,
   "metadata": {},
   "outputs": [],
   "source": [
    "rab_cells_properties.mask_uid"
   ]
  },
  {
   "cell_type": "code",
   "execution_count": null,
   "metadata": {},
   "outputs": [],
   "source": [
    "mcherry_cell_properties.is_starter"
   ]
  },
  {
   "cell_type": "code",
   "execution_count": null,
   "metadata": {},
   "outputs": [],
   "source": [
    "mouse = \"BRAC8498.3e\""
   ]
  },
  {
   "cell_type": "code",
   "execution_count": null,
   "metadata": {},
   "outputs": [],
   "source": [
    "starter_per_dist = dict()\n",
    "multi_assignment = dict()\n",
    "for max_dst in np.arange(2, 15, 0.2):\n",
    "    rabies_cell_properties, mcherry_cell_properties = (\n",
    "        issa.segment.match_starter_to_barcodes(\n",
    "            project,\n",
    "            mouse,\n",
    "            rab_cells_properties,\n",
    "            rab_spot_df,\n",
    "            mcherry_cells=None,\n",
    "            redo=True,\n",
    "            verbose=False,\n",
    "            max_starter_distance=max_dst,\n",
    "            min_spot_number=4,\n",
    "        )\n",
    "    )\n",
    "    nst = mcherry_cell_properties.is_starter.value_counts()\n",
    "    starter_per_dist[max_dst] = nst[True]\n",
    "    multi_assignment[max_dst] = (\n",
    "        rabies_cell_properties[rabies_cell_properties.is_starter].distance2mcherry.map(\n",
    "            len\n",
    "        )\n",
    "        > 1\n",
    "    ).sum()\n",
    "    print(f\"Min spot: {max_dst}, n starter: {nst[True]}/{nst.sum()}\")"
   ]
  },
  {
   "cell_type": "code",
   "execution_count": null,
   "metadata": {},
   "outputs": [],
   "source": [
    "fig = plt.figure(figsize=(7, 3))\n",
    "ax = plt.subplot(121)\n",
    "ax.set_xlabel(\"Search radius (um)\")\n",
    "ax.set_ylabel(\"# of mcherry classified as starter\")\n",
    "ax.axvline(5, color=\"black\", linestyle=\"--\", label=\"5 um\")\n",
    "plt.plot(*zip(*starter_per_dist.items()), \".\", label=\"n starters\")\n",
    "\n",
    "ax = plt.subplot(122)\n",
    "ax.plot(*zip(*multi_assignment.items()), \".\", label=\"multi assignment\", color=\"red\")\n",
    "ax.set_ylabel(\"# of rabies cell overlaping\\nwith multiple mcherry\")\n",
    "ax.set_xlabel(\"Search radius (um)\")\n",
    "ax.axvline(5, color=\"black\", linestyle=\"--\", label=\"5 um\")\n",
    "plt.tight_layout()"
   ]
  },
  {
   "cell_type": "code",
   "execution_count": null,
   "metadata": {},
   "outputs": [],
   "source": [
    "chamber = \"chamber_07\"\n",
    "roi = 4\n",
    "\n",
    "mch = out.query(f'chamber == \"{chamber}\" and roi == {roi}')\n",
    "spots = rab_spot_df.query(f'chamber == \"{chamber}\" and roi == {roi}')\n",
    "spots = spots.query(\"cell_mask > 1\").copy()\n",
    "barcode = spots.corrected_bases.unique()\n",
    "spots[\"barcode_id\"] = spots.corrected_bases.map({b: i for i, b in enumerate(barcode)})\n",
    "\n",
    "fig = plt.figure(figsize=(20, 10))\n",
    "for i in range(2):\n",
    "    ax = fig.add_subplot(1, 2, 1 + i, aspect=\"equal\")\n",
    "\n",
    "    if i:\n",
    "        for i, row in mch.iterrows():\n",
    "            # ax.text(row.x, row.y, str(i), fontsize=8, color='k')\n",
    "            circl = plt.Circle((row.x, row.y), 5 / 0.2, fill=False, color=\"k\")\n",
    "            ax.add_artist(circl)\n",
    "    plt.scatter(\n",
    "        mch.x,\n",
    "        mch.y,\n",
    "        c=mch.is_starter,\n",
    "        edgecolors=\"k\",\n",
    "        s=100,\n",
    "        cmap=\"coolwarm\",\n",
    "        alpha=0.5,\n",
    "    )\n",
    "    plt.scatter(\n",
    "        spots.x,\n",
    "        spots.y,\n",
    "        ec=\"k\" if i else \"None\",\n",
    "        c=spots.barcode_id % 20,\n",
    "        s=20,\n",
    "        cmap=\"tab20\",\n",
    "        alpha=0.5,\n",
    "    )\n",
    "\n",
    "    if i == 0:\n",
    "        ax.set_xlim(mch.x.min() - 100, mch.x.max() + 100)\n",
    "        ax.set_ylim(mch.y.min() - 100, mch.y.max() + 100)\n",
    "    else:\n",
    "        ax.set_xlim(13700, 15000)\n",
    "        ax.set_ylim(15000, 16000)\n",
    "    ax.set_xticks([])\n",
    "    ax.set_yticks([])\n",
    "fig.tight_layout()"
   ]
  },
  {
   "cell_type": "code",
   "execution_count": null,
   "metadata": {},
   "outputs": [],
   "source": [
    "20 * 0.2"
   ]
  },
  {
   "cell_type": "code",
   "execution_count": null,
   "metadata": {},
   "outputs": [],
   "source": [
    "rabies_cell_properties = rab_cells_properties\n",
    "starters = None\n",
    "verbose = True\n",
    "redo = True"
   ]
  },
  {
   "cell_type": "code",
   "execution_count": null,
   "metadata": {},
   "outputs": [],
   "source": [
    "manual_click = (\n",
    "    issp.io.get_processed_path(f\"{project}/{mouse}\") / \"analysis\" / \"starter_cells\"\n",
    ")\n",
    "if starters is None:\n",
    "    starters = issa.io.get_starter_cells(project, mouse)\n",
    "\n",
    "rabies_cell_properties[\"starter\"] = False\n",
    "rabies_cell_properties[\"starter_id\"] = \"none\"\n",
    "rabies_cell_properties[\"distance\"] = np.nan\n",
    "for (ch, roi), starter_df in starters.groupby([\"chamber\", \"roi\"]):\n",
    "    # XXX: TEMPORARY FIX\n",
    "    if ch != \"chamber_07\":\n",
    "        continue\n",
    "    if roi != 1:\n",
    "        continue\n",
    "    # XXX: TEMPORARY FIX end\n",
    "    fname = manual_click / f\"rabies_cells_{mouse}_{ch}_roi_{roi}.pkl\"\n",
    "    if (not redo) and fname.exists():\n",
    "        if verbose:\n",
    "            print(f\"Loading {fname}\")\n",
    "        rab_this_roi = pd.read_pickle(fname)\n",
    "        try:\n",
    "            rabies_cell_properties.loc[rab_this_roi.index, \"starter\"] = rab_this_roi[\n",
    "                \"starter\"\n",
    "            ]\n",
    "        except KeyError:\n",
    "            raise ValueError(\"Mask IDs have changed. Use `redo` to update matching\")\n",
    "        rabies_cell_properties.loc[rab_this_roi.index, \"starter_id\"] = rab_this_roi[\n",
    "            \"starter_id\"\n",
    "        ]\n",
    "        continue\n",
    "    if verbose:\n",
    "        print(f\"Determining starter cell for {ch} {roi}\")\n",
    "        # get the masks\n",
    "        print(\"Loading masks\")\n",
    "    # XXX: TEMPORARY FIX\n",
    "    if ch != \"chamber_07\":\n",
    "        cell_masks = issp.segment.get_cell_masks(f\"{project}/{mouse}/{ch}\", roi)\n",
    "    else:\n",
    "        print(\"Loading masks manually\")\n",
    "        # manually load the masks\n",
    "        p = Path(\n",
    "            \"/Users/blota/Data/processed/becalia_rabies_barseq/temp/BRAC8498.3e_chamber_07_2_all_cells_mask.tif\"\n",
    "        )\n",
    "        cell_masks = issp.io.load_stack(p)[..., 0]\n",
    "    # XXX: TEMPORARY FIX END\n",
    "\n",
    "    rab_cells_slice = rabies_cell_properties[\n",
    "        (rabies_cell_properties.roi == roi) & (rabies_cell_properties.chamber == ch)\n",
    "    ].copy()\n",
    "    if verbose:\n",
    "        print(\"Finding starter cell\")"
   ]
  },
  {
   "cell_type": "code",
   "execution_count": null,
   "metadata": {},
   "outputs": [],
   "source": [
    "for st_id, st in starter_df.iterrows():\n",
    "    mask_id = cell_masks[int(st.y), int(st.x)]\n",
    "    mask_uid = f\"{ch}_{roi}_{int(mask_id)}\"\n",
    "    if mask_uid in rabies_cell_properties.index:\n",
    "        assert (\n",
    "            rabies_cell_properties.loc[mask_uid, \"starter\"] == False\n",
    "        ), \"Starter already assigned\"\n",
    "        rabies_cell_properties.loc[mask_uid, \"starter\"] = True\n",
    "        rabies_cell_properties.loc[mask_uid, \"starter_id\"] = st_id\n",
    "        rabies_cell_properties.loc[mask_uid, \"distance\"] = 0\n",
    "        continue\n",
    "    # we did not find the mask in the rabies_cell_properties\n",
    "    if verbose:\n",
    "        if mask_id == 0:\n",
    "            print(f\"Starter {st_id} not above any mask\")\n",
    "        else:\n",
    "            print(f\"Starter {st_id} in mask {mask_uid}, which is not a rabies cell.\")\n",
    "    # find the closest mask\n",
    "    # create a temporary column d2thisstarter\n",
    "    rab_cells_slice[\"d2thisstarter\"] = np.sqrt(\n",
    "        (rab_cells_slice.x - st.x) ** 2 + (rab_cells_slice.y - st.y) ** 2\n",
    "    )\n",
    "    mask_uid = rab_cells_slice.d2thisstarter.idxmin()\n",
    "    distance = rab_cells_slice.loc[mask_uid, \"d2thisstarter\"]\n",
    "    assert (\n",
    "        rabies_cell_properties.loc[mask_uid, \"starter\"] == False\n",
    "    ), \"Starter already assigned\"\n",
    "    rabies_cell_properties.loc[mask_uid, \"starter\"] = True\n",
    "    rabies_cell_properties.loc[mask_uid, \"starter_id\"] = st_id\n",
    "    rabies_cell_properties.loc[mask_uid, \"distance\"] = 0"
   ]
  },
  {
   "cell_type": "code",
   "execution_count": null,
   "metadata": {},
   "outputs": [],
   "source": [
    "rabies_cell_properties.loc[mask_uid]"
   ]
  },
  {
   "cell_type": "code",
   "execution_count": null,
   "metadata": {},
   "outputs": [],
   "source": []
  },
  {
   "cell_type": "code",
   "execution_count": null,
   "metadata": {},
   "outputs": [],
   "source": []
  },
  {
   "cell_type": "code",
   "execution_count": null,
   "metadata": {},
   "outputs": [],
   "source": []
  },
  {
   "cell_type": "markdown",
   "metadata": {},
   "source": [
    "# END DEBUG MATCH STARTER"
   ]
  },
  {
   "cell_type": "code",
   "execution_count": null,
   "metadata": {},
   "outputs": [],
   "source": [
    "rab_cells_properties = issa.segment.match_starter_to_barcodes(\n",
    "    project,\n",
    "    mouse,\n",
    "    rab_cells_properties,\n",
    "    rab_spot_df,\n",
    "    mcherry_cells=None,\n",
    "    redo=True,\n",
    "    verbose=True,\n",
    ")"
   ]
  },
  {
   "cell_type": "code",
   "execution_count": null,
   "metadata": {},
   "outputs": [],
   "source": [
    "if False:\n",
    "    dapi = issp.pipeline.stitch_registered(\n",
    "        data_path + f\"/{chamber}\",\n",
    "        prefix=prefix,\n",
    "        roi=roi,\n",
    "        projection=None,  # \"corrected\",\n",
    "        channels=[3, 1],\n",
    "    )"
   ]
  },
  {
   "cell_type": "code",
   "execution_count": null,
   "metadata": {},
   "outputs": [],
   "source": [
    "mask_centers = issp.pipeline.segment.make_cell_dataframe(\n",
    "    f\"{project}/{mouse_name}/{chamber}\",\n",
    "    roi,\n",
    "    masks=masks,\n",
    "    atlas_size=None,\n",
    ")"
   ]
  },
  {
   "cell_type": "code",
   "execution_count": null,
   "metadata": {},
   "outputs": [],
   "source": [
    "barcode_roi = rab_spot_df[\n",
    "    (rab_spot_df.chamber == chamber) & (rab_spot_df.roi == roi)\n",
    "].copy()\n",
    "plt.subplot(1, 1, 1, aspect=\"equal\")\n",
    "plt.scatter(mask_centers.x, mask_centers.y, c=\"purple\", s=20, alpha=0.5)\n",
    "plt.scatter(barcode_roi.x, barcode_roi.y, c=\"k\", s=1, alpha=0.5)\n",
    "plt.ylim(plt.ylim()[::-1])"
   ]
  },
  {
   "cell_type": "code",
   "execution_count": null,
   "metadata": {},
   "outputs": [],
   "source": [
    "nc = 20\n",
    "ma = masks.astype(float)\n",
    "ma[ma == 0] = np.nan"
   ]
  },
  {
   "cell_type": "code",
   "execution_count": null,
   "metadata": {},
   "outputs": [],
   "source": [
    "from iss_analysis import vis\n",
    "\n",
    "infiteloop = dict(m=0.1, spot_prior=0.0001, spot_distribution_sigma=50)\n",
    "# run on a part of the data\n",
    "xlim = np.array([10200, 11000]).astype(int)\n",
    "ylim = np.array([9000, 9800]).astype(int)\n",
    "\n",
    "mc = vis.get_spot_part(mask_centers, xlim, ylim, return_mask=False)"
   ]
  },
  {
   "cell_type": "code",
   "execution_count": null,
   "metadata": {},
   "outputs": [],
   "source": [
    "from iss_analysis import vis\n",
    "\n",
    "fig = plt.figure(figsize=(20, 20))\n",
    "ax = plt.subplot(1, 1, 1, aspect=\"equal\")\n",
    "bc, valid_sp = vis.get_spot_part(barcode_roi, xlim, ylim, return_mask=True)\n",
    "mask_assignment = bc.cell_mask.values.astype(int)\n",
    "\n",
    "vis.plot_bc_over_mask(\n",
    "    ax,\n",
    "    ma,\n",
    "    bc,\n",
    "    mask_assignment,\n",
    "    xlim,\n",
    "    ylim,\n",
    "    nc=10,\n",
    "    show_bg_barcodes=True,\n",
    "    mask_alpha=0.5,\n",
    "    line2mask=True,\n",
    "    mask_centers=mc,\n",
    ")"
   ]
  },
  {
   "cell_type": "code",
   "execution_count": null,
   "metadata": {},
   "outputs": [],
   "source": [
    "def plot_bc_over_mask(ax, ma, bc, mask_assignment, xlim, ylim, nc=12):\n",
    "    im = ax.imshow(\n",
    "        get_stack_part(ma, xlim, ylim),\n",
    "        alpha=0.5,\n",
    "        cmap=\"Set3\",\n",
    "        vmin=0,\n",
    "        vmax=nc,\n",
    "        interpolation=\"none\",\n",
    "    )\n",
    "    # centroids = get_spot_part()\n",
    "    sp_col = mask_assignment % nc\n",
    "    too_far = mask_assignment == -2\n",
    "    background = mask_assignment == -1\n",
    "    assigned = mask_assignment >= 0\n",
    "    barcodes = list(bc.corrected_bases.unique())\n",
    "    bc_color = np.array([barcodes.index(b) for b in bc.corrected_bases]).astype(int)\n",
    "    ax.scatter(\n",
    "        bc.x.values[too_far] - xlim[0],\n",
    "        bc.y.values[too_far] - ylim[0],\n",
    "        color=\"w\",\n",
    "        edgecolors=\"k\",\n",
    "        linewidths=0.2,\n",
    "        s=5,\n",
    "        alpha=0.5,\n",
    "    )\n",
    "    ax.scatter(\n",
    "        bc.x.values[background] - xlim[0],\n",
    "        bc.y.values[background] - ylim[0],\n",
    "        s=5,\n",
    "        alpha=0.5,\n",
    "        color=\"k\",\n",
    "        edgecolors=\"k\",\n",
    "    )\n",
    "    ax.scatter(\n",
    "        bc.x.values[assigned] - xlim[0],\n",
    "        bc.y.values[assigned] - ylim[0],\n",
    "        c=bc_color[assigned] % 20,\n",
    "        s=30,\n",
    "        alpha=1,\n",
    "        cmap=\"Set3\",\n",
    "        vmin=0,\n",
    "        vmax=nc,\n",
    "        marker=\"o\",\n",
    "        facecolors=\"none\",\n",
    "    )\n",
    "    ax.scatter(\n",
    "        bc.x.values[assigned] - xlim[0],\n",
    "        bc.y.values[assigned] - ylim[0],\n",
    "        c=sp_col[assigned],\n",
    "        s=20,\n",
    "        alpha=0.5,\n",
    "        cmap=\"Set3\",\n",
    "        vmin=0,\n",
    "        vmax=nc,\n",
    "        edgecolors=\"none\",\n",
    "    )\n",
    "    ax.set_xticks([])\n",
    "    ax.set_yticks([])"
   ]
  },
  {
   "cell_type": "code",
   "execution_count": null,
   "metadata": {},
   "outputs": [],
   "source": [
    "fig, axes = plt.subplots(\n",
    "    len(mask_assignment_id), 2, figsize=(10, len(mask_assignment_id) * 5), dpi=300\n",
    ")\n",
    "previous = None\n",
    "for iax, assi in enumerate(mask_assignment_id):\n",
    "    mask_assignment = np.array(mc.index[assi])\n",
    "    mask_assignment[assi == -1] = -1\n",
    "    mask_assignment[assi == -2] = -2\n",
    "    ax = axes[iax, 0]\n",
    "    ax.set_ylabel(\"Iteration %d\" % iax)\n",
    "    plot_bc_over_mask(ax, ma, bc, mask_assignment, xlim, ylim, nc=12)\n",
    "    if previous is None:\n",
    "        previous = mask_assignment\n",
    "    changed = mask_assignment != previous\n",
    "    mask_a = mask_assignment.copy()\n",
    "    mask_a[~changed] = -2\n",
    "    plot_bc_over_mask(axes[iax, 1], ma, bc, mask_a, xlim, ylim, nc=12)\n",
    "    previous = mask_assignment\n",
    "\n",
    "axes[0, 0].set_title(\"Assigned barcodes\")\n",
    "axes[0, 1].set_title(\"Changed barcodes\")\n",
    "fig.tight_layout()"
   ]
  },
  {
   "cell_type": "code",
   "execution_count": null,
   "metadata": {},
   "outputs": [],
   "source": [
    "import warnings\n",
    "\n",
    "warnings.filterwarnings(\"error\")\n",
    "\n",
    "# run on a part of the data\n",
    "xlim = np.array([10200, 11000]).astype(int)\n",
    "ylim = np.array([9000, 9800]).astype(int)\n",
    "bc, valid_sp = get_spot_part(barcode_roi, xlim, ylim, return_mask=True)\n",
    "mc = get_spot_part(mask_centers, xlim, ylim, return_mask=False)\n",
    "\n",
    "p = 0.9\n",
    "m = 0.1\n",
    "background_spot_prior = 0.0001\n",
    "spot_distribution_sigma = 50\n",
    "distance_threshold = 200\n",
    "\n",
    "spot_distribution_sigma = 50\n",
    "fig, axes = plt.subplots(3, 3, figsize=(20, 20))\n",
    "\n",
    "\n",
    "for ix, spot_distribution_sigma in enumerate([25, 50, 100]):\n",
    "    for iy, p in enumerate([0.7, 0.8, 0.9]):\n",
    "        ax = axes[ix, iy]\n",
    "        ax.set_aspect(\"equal\")\n",
    "        if ix == 0:\n",
    "            ax.set_title(f\"p={p}\")\n",
    "        if iy == 0:\n",
    "            ax.set_ylabel(f\"spot_distribution_sigma={spot_distribution_sigma}\")\n",
    "        params = dict(\n",
    "            p=p,\n",
    "            m=m,\n",
    "            background_spot_prior=background_spot_prior,\n",
    "            spot_distribution_sigma=spot_distribution_sigma,\n",
    "            distance_threshold=200,\n",
    "        )\n",
    "        mask_assignment_id = issa.barcodes.barcodes.assign_barcodes_to_masks(\n",
    "            spots=bc,\n",
    "            masks=mc,\n",
    "            max_iterations=100,\n",
    "            verbose=True,\n",
    "            base_column=\"corrected_bases\",\n",
    "            **params,\n",
    "        )\n",
    "        mask_assignment = np.array(mc.index[mask_assignment_id])\n",
    "        mask_assignment[mask_assignment_id == -1] = -1\n",
    "        mask_assignment[mask_assignment_id == -2] = -2\n",
    "        plot_bc_over_mask(ax, ma, bc, mask_assignment, xlim, ylim, nc=12)\n",
    "fig.tight_layout()\n",
    "fig.savefig(analysis_folder / f\"{chamber}_{roi}_barcode_assignment.png\", dpi=300)"
   ]
  },
  {
   "cell_type": "code",
   "execution_count": null,
   "metadata": {},
   "outputs": [],
   "source": [
    "fig = plt.figure(figsize=(20, 20))\n",
    "xlim = np.array([9000, 9500]).astype(int)\n",
    "ylim = np.array([6000, 7000]).astype(int)\n",
    "ax = fig.add_subplot(111, aspect=\"equal\")\n",
    "st = get_stack_part(dapi, xlim, ylim)\n",
    "rgb = issp.vis.to_rgb(\n",
    "    st,\n",
    "    colors=[(0, 0, 1), (1, 0, 0)],\n",
    "    vmin=np.nanpercentile(st, 1, axis=(0, 1)),\n",
    "    vmax=np.nanpercentile(st, 99, axis=(0, 1)),\n",
    ")\n",
    "im = ax.imshow(rgb)"
   ]
  },
  {
   "cell_type": "code",
   "execution_count": null,
   "metadata": {},
   "outputs": [],
   "source": [
    "from pathlib import Path\n",
    "\n",
    "ch_path = \"becalia_rabies_barseq/BRAC8498.3e/chamber_07\"\n",
    "issp.pipeline.segment.remove_all_duplicate_masks(\n",
    "    data_path=ch_path,\n",
    "    prefix=\"hybridisation_round_3_1\",\n",
    "    upper_overlap_thresh=0.3,\n",
    ")"
   ]
  },
  {
   "cell_type": "code",
   "execution_count": null,
   "metadata": {},
   "outputs": [],
   "source": [
    "for i, seq in enumerate([\"AACTAAGCATAGAA\", \"CCTCTTACATAGCT\"]):\n",
    "    c = bc[bc.corrected_bases == seq]\n",
    "    mat = np.vstack(c.sequence.values)\n",
    "    print(mat.shape)\n",
    "    all_base = []\n",
    "    for base in range(4):\n",
    "        v = mat == base\n",
    "        _, c = np.where(v)\n",
    "        all_base.append(c)\n",
    "    plt.subplot(2, 1, 1 + i)\n",
    "    _ = plt.hist(all_base, bins=np.arange(0, 15) - 0.5, stacked=True)"
   ]
  },
  {
   "cell_type": "code",
   "execution_count": null,
   "metadata": {},
   "outputs": [],
   "source": [
    "vc = bc[(bc.chamber == chamber) & (bc.roi == roi)].corrected_bases.value_counts()\n",
    "vc.head()"
   ]
  },
  {
   "cell_type": "code",
   "execution_count": null,
   "metadata": {},
   "outputs": [],
   "source": [
    "roi_bc = bc[(bc.chamber == chamber) & (bc.roi == roi)]\n",
    "plt.subplot(1, 1, 1, aspect=\"equal\")\n",
    "plt.scatter(\n",
    "    roi_bc[roi_bc.corrected_bases == \"CCTACATCATAATA\"].x,\n",
    "    roi_bc[roi_bc.corrected_bases == \"CCTACATCATAATA\"].y,\n",
    "    c=\"r\",\n",
    "    s=5,\n",
    "    alpha=0.1,\n",
    ")\n",
    "plt.xlim(2000, 7000)\n",
    "plt.ylim(10000, 15000)\n",
    "plt.ylim(plt.ylim()[::-1])"
   ]
  },
  {
   "cell_type": "code",
   "execution_count": null,
   "metadata": {},
   "outputs": [],
   "source": [
    "# Load the data we want\n",
    "edit_distance = 2\n",
    "nrounds = 10\n",
    "\n",
    "weights = np.ones(14)\n",
    "weights[nrounds:] = 0\n",
    "barcode_spots = issa.barcodes.error_correct_acquisition(\n",
    "    project,\n",
    "    mouse,\n",
    "    n_components=3,\n",
    "    valid_components=(1, 2),\n",
    "    mean_intensity_threshold=0.01,\n",
    "    dot_product_score_threshold=0.2,\n",
    "    mean_score_threshold=0.75,\n",
    "    max_edit_distance=edit_distance,\n",
    "    weights=list(weights),\n",
    "    minimum_match=max(np.sum(weights) - edit_distance - 1, 0),\n",
    "    verbose=True,\n",
    "    conflicts=\"skip\",\n",
    "    use_slurm=False,\n",
    ")\n",
    "barcode_spots.head()"
   ]
  },
  {
   "cell_type": "code",
   "execution_count": null,
   "metadata": {},
   "outputs": [],
   "source": [
    "threshold = dict(\n",
    "    mean_intensity=0.03,\n",
    "    dot_product_score=0.2,\n",
    "    mean_score=0.9,\n",
    ")\n",
    "use_gmm = (False,)\n",
    "n_components = (1,)\n",
    "valid_components = ((0),)\n",
    "\n",
    "if False:\n",
    "    # old params\n",
    "    valid_components = [1, 2]\n",
    "    thresholds = dict(mean_intensity=0.01, dot_product_score=0.2, mean_score=0.5)\n",
    "    n_components = 3\n",
    "    use_gmm = True\n",
    "\n",
    "barcode_spots, gmm, all_barcode_spots = bar.get_barcodes(\n",
    "    acquisition_folder=data_path,\n",
    "    n_components=n_components,\n",
    "    valid_components=valid_components,\n",
    "    use_gmm=use_gmm,\n",
    "    **{f\"{k}_threshold\": v for k, v in thresholds.items()},\n",
    ")\n",
    "\n",
    "pg = plot_gmm_clusters(all_barcode_spots, gmm, thresholds=thresholds)\n",
    "fig = pg.figure\n",
    "fig.savefig(analysis_folder / \"gmm_clusters.png\")"
   ]
  },
  {
   "cell_type": "markdown",
   "metadata": {},
   "source": [
    "## Plot proportion of barcodes in each cluster"
   ]
  },
  {
   "cell_type": "code",
   "execution_count": null,
   "metadata": {},
   "outputs": [],
   "source": [
    "ch_r_gp = all_barcode_spots.groupby([\"chamber\", \"roi\"])\n",
    "n_rois = len(ch_r_gp)\n",
    "n_comp = len(all_barcode_spots.gmm_label.unique())\n",
    "n_per_lab = np.zeros((n_rois, n_comp))\n",
    "\n",
    "for i, (ch_r, df) in enumerate(ch_r_gp):\n",
    "    n_per_lab[i] = df.groupby(\"gmm_label\").size()\n",
    "\n",
    "fig = plt.figure(figsize=(20, 10))\n",
    "ax = fig.add_subplot(2, 1, 1)\n",
    "ax.plot(np.arange(n_rois), n_per_lab, \"o-\")\n",
    "ax.set_xticks(np.arange(n_rois))\n",
    "ax.set_xticklabels([])\n",
    "ax.set_ylabel(\"Number of spots\")\n",
    "ax = fig.add_subplot(2, 1, 2)\n",
    "ax.plot(np.arange(n_rois), n_per_lab / np.sum(n_per_lab, axis=1, keepdims=True), \"o-\")\n",
    "ax.set_xticks(np.arange(n_rois))\n",
    "ax.set_ylabel(\"Fraction of spots\")\n",
    "_ = ax.set_xticklabels([f\"{ch}_{r}\" for ch, r in ch_r_gp.groups.keys()], rotation=90)\n",
    "fig.tight_layout()"
   ]
  },
  {
   "cell_type": "markdown",
   "metadata": {},
   "source": [
    "## Plot one example chamber"
   ]
  },
  {
   "cell_type": "code",
   "execution_count": null,
   "metadata": {},
   "outputs": [],
   "source": [
    "chamber = 9\n",
    "roi = 9\n",
    "\n",
    "import matplotlib.pyplot as plt\n",
    "\n",
    "df = all_barcode_spots[\n",
    "    (all_barcode_spots[\"chamber\"] == f\"chamber_{chamber:02}\")\n",
    "    & (all_barcode_spots[\"roi\"] == roi)\n",
    "]\n",
    "for i in range(n_comp):\n",
    "    fig = plt.figure(figsize=(20, 10), facecolor=\"black\")\n",
    "    ax = fig.add_subplot(1, 1, 1, aspect=\"equal\", facecolor=\"black\")\n",
    "    ax.scatter(\n",
    "        df[df[\"gmm_label\"] == i][\"x\"],\n",
    "        df[df[\"gmm_label\"] == i][\"y\"],\n",
    "        label=f\"cluster {i}\",\n",
    "        alpha=0.2,\n",
    "        s=1,\n",
    "        color=f\"C{i}\",\n",
    "    )\n",
    "    ax.set_ylim(ax.get_ylim()[::-1])\n",
    "plt.legend()\n",
    "_ = ax.axis(\"off\")"
   ]
  },
  {
   "cell_type": "code",
   "execution_count": null,
   "metadata": {},
   "outputs": [],
   "source": [
    "barcode_spots.gmm_label.value_counts()"
   ]
  },
  {
   "cell_type": "markdown",
   "metadata": {},
   "source": [
    "# Error correction"
   ]
  },
  {
   "cell_type": "markdown",
   "metadata": {},
   "source": [
    "## Estimate error rate along sequence"
   ]
  },
  {
   "cell_type": "code",
   "execution_count": null,
   "metadata": {},
   "outputs": [],
   "source": [
    "errors_along_seq = bar.error_per_round(\n",
    "    spot_df=barcode_spots,\n",
    "    edit_distance=1,\n",
    "    spot_count_threshold=30,\n",
    "    sequence_column=\"sequence\",\n",
    "    filter_column=\"bases\",\n",
    ")"
   ]
  },
  {
   "cell_type": "code",
   "execution_count": null,
   "metadata": {},
   "outputs": [],
   "source": [
    "figs = plot_error_along_sequence(\n",
    "    errors_along_seq, nrows=2, plot_matrix=False, marker=\"o\"\n",
    ")"
   ]
  },
  {
   "cell_type": "markdown",
   "metadata": {},
   "source": [
    "## Manually filter out missing data"
   ]
  },
  {
   "cell_type": "code",
   "execution_count": null,
   "metadata": {},
   "outputs": [],
   "source": [
    "# This is INDEX of the round, NOT the number as written in the file name, so 0 based.\n",
    "missing_roi = dict(chamber_09={8: 2, 9: 2}, chamber_08={8: 10, 9: 10})\n",
    "missing_tiles = dict(chamber_08={\"10_2_4\": 5})"
   ]
  },
  {
   "cell_type": "code",
   "execution_count": null,
   "metadata": {},
   "outputs": [],
   "source": [
    "clean_barcodes = barcode_spots.copy()\n",
    "\n",
    "print(\"Removing rounds with missing rois\")\n",
    "for chamber, rois in missing_roi.items():\n",
    "    for roi, round_ in rois.items():\n",
    "        print(f\"Removing round {round_} from {chamber}, roi {roi}\")\n",
    "        bad = (clean_barcodes[\"chamber\"] == chamber) & (clean_barcodes[\"roi\"] == roi)\n",
    "        mask = np.zeros(len(clean_barcodes.iloc[0][\"sequence\"]), dtype=float)\n",
    "        mask[round_] = np.nan\n",
    "        c = clean_barcodes.loc[bad, \"sequence\"].map(lambda x: x + mask)\n",
    "        clean_barcodes.loc[bad, \"sequence\"] = c\n",
    "        c = clean_barcodes.loc[bad, \"bases\"].map(\n",
    "            lambda x: x[:round_] + \"N\" + x[round_ + 1 :]\n",
    "        )\n",
    "        clean_barcodes.loc[bad, \"bases\"] = c\n",
    "print(\"Removing rounds with missing tiles\")\n",
    "for chamber, tiles in missing_tiles.items():\n",
    "    for tile, round_ in tiles.items():\n",
    "        print(f\"Removing round {round_} from {chamber}, tile {tile}\")\n",
    "        bad = (clean_barcodes[\"chamber\"] == chamber) & (clean_barcodes[\"tile\"] == tile)\n",
    "        mask = np.zeros(len(clean_barcodes.iloc[0][\"sequence\"]), dtype=float)\n",
    "        mask[round_] = np.nan\n",
    "        c = clean_barcodes.loc[bad, \"sequence\"].map(lambda x: x + mask)\n",
    "        clean_barcodes.loc[bad, \"sequence\"] = c\n",
    "        c = clean_barcodes.loc[bad, \"bases\"].map(\n",
    "            lambda x: x[:round_] + \"N\" + x[round_ + 1 :]\n",
    "        )\n",
    "        clean_barcodes.loc[bad, \"bases\"] = c"
   ]
  },
  {
   "cell_type": "code",
   "execution_count": null,
   "metadata": {},
   "outputs": [],
   "source": [
    "errors_along_seq = bar.error_per_round(\n",
    "    spot_df=clean_barcodes, edit_distance=1, spot_count_threshold=30\n",
    ")\n",
    "figs = plot_error_along_sequence(\n",
    "    errors_along_seq, nrows=2, plot_matrix=False, marker=\"o\"\n",
    ")"
   ]
  },
  {
   "cell_type": "markdown",
   "metadata": {},
   "source": [
    "## Actual error correction part"
   ]
  },
  {
   "cell_type": "code",
   "execution_count": null,
   "metadata": {},
   "outputs": [],
   "source": [
    "# save clean barcode to reload later\n",
    "clean_barcodes.to_pickle(analysis_folder / \"clean_barcodes.pkl\")"
   ]
  },
  {
   "cell_type": "code",
   "execution_count": null,
   "metadata": {},
   "outputs": [],
   "source": [
    "edist = 3\n",
    "fname = analysis_folder / f\"corrected_barcode_spots_edit{edist}.pkl\"\n",
    "err_corr = pd.read_pickle(fname)\n",
    "non_corr = err_corr.bases.value_counts()\n",
    "corr = err_corr.corrected_bases.value_counts()"
   ]
  },
  {
   "cell_type": "code",
   "execution_count": null,
   "metadata": {},
   "outputs": [],
   "source": [
    "import pandas as pd\n",
    "\n",
    "redo = False\n",
    "weights = np.ones(14)\n",
    "weights[10:] = 0\n",
    "err_corr_edt = dict()\n",
    "use_slurm = True\n",
    "\n",
    "for edist in [2]:\n",
    "    print(f\"Correcting barcodes with edit distance {edist}\")\n",
    "    fname = analysis_folder / f\"corrected_barcode_spots_edit{edist}.pkl\"\n",
    "    if redo or not fname.exists():\n",
    "        err_corr, merge_dict = bar.correct_barcode_sequences(\n",
    "            analysis_folder / \"clean_barcodes.pkl\",\n",
    "            max_edit_distance=edist,\n",
    "            weights=weights,\n",
    "            return_merge_dict=True,\n",
    "            save_path=fname,\n",
    "        )\n",
    "        err_corr.to_pickle(fname)\n",
    "    else:\n",
    "        err_corr = pd.read_pickle(fname)\n",
    "    non_corr = err_corr.bases.value_counts()\n",
    "    corr = err_corr.corrected_bases.value_counts()\n",
    "    print(f\"Number of unique sequences before correction: {len(non_corr)}\")\n",
    "    print(f\"Number of unique sequences after correction: {len(corr)}\")\n",
    "    err_corr_edt[edist] = err_corr"
   ]
  },
  {
   "cell_type": "code",
   "execution_count": null,
   "metadata": {},
   "outputs": [],
   "source": [
    "# counting number of unique sequence before correction\n",
    "sequences = np.stack(clean_barcodes[\"sequence\"].to_numpy())\n",
    "seq_no_nan = np.nan_to_num(sequences, nan=4)\n",
    "n_unique = np.zeros(seq_no_nan.shape[1])\n",
    "for i in range(seq_no_nan.shape[1]):\n",
    "    n_unique[i] = len(np.unique(seq_no_nan[:, :i], axis=0))"
   ]
  },
  {
   "cell_type": "code",
   "execution_count": null,
   "metadata": {},
   "outputs": [],
   "source": [
    "plt.plot(np.arange(14), 4 ** np.arange(14), \"k--\")\n",
    "plt.plot(np.arange(len(n_unique)), n_unique, \"o-\")\n",
    "plt.xlabel(\"# of rounds\")\n",
    "plt.ylabel(\"# of unique sequences\")\n",
    "plt.semilogy()\n",
    "plt.ylim(0.1, 1e6)"
   ]
  },
  {
   "cell_type": "markdown",
   "metadata": {},
   "source": [
    "## Quality control"
   ]
  },
  {
   "cell_type": "code",
   "execution_count": null,
   "metadata": {},
   "outputs": [],
   "source": [
    "for threshold in range(10, 100, 10):\n",
    "    n_bc = {}\n",
    "    n_bc_with_N = {}\n",
    "    for k, v in err_corr_edt.items():\n",
    "        v[\"corrected_bases\"] = v[\"corrected_bases\"].map(lambda x: \"\".join(x))\n",
    "        vc = v[\"corrected_bases\"].value_counts()\n",
    "        n_bc[k] = vc[vc > threshold].shape[0]\n",
    "        n_bc_with_N[k] = np.sum([\"N\" in i for i in vc.index])\n",
    "    plt.plot(n_bc.keys(), n_bc.values(), \"o-\", label=f\"Aboundance > {threshold}\")\n",
    "plt.ylabel(\"Number of unique barcodes\")\n",
    "plt.xlabel(\"Edit distance\")\n",
    "plt.legend()"
   ]
  },
  {
   "cell_type": "code",
   "execution_count": null,
   "metadata": {},
   "outputs": [],
   "source": [
    "err_corr[\"corrected_bases\"] = err_corr[\"corrected_bases\"].map(lambda x: \"\".join(x))\n",
    "vc = err_corr[\"corrected_bases\"].value_counts()\n",
    "\n",
    "ab = vc[vc <= 50]\n",
    "\n",
    "nchamber = len(v.chamber.unique())\n",
    "nrois = 10\n",
    "fig, axes = plt.subplots(nrois, nchamber, figsize=(20, 40))\n",
    "for bci in range(5):\n",
    "    bc = err_corr[err_corr.corrected_bases == ab.index[bci]]\n",
    "    for ich, (ch_name, ch) in enumerate(v.groupby(\"chamber\")):\n",
    "        for iroi, (roi_name, roi) in enumerate(ch.groupby(\"roi\")):\n",
    "            ax = axes[iroi, ich]\n",
    "            bcc = bc[(bc.roi == roi_name) & (bc.chamber == ch_name)]\n",
    "            if not bci:\n",
    "                ax.scatter(\n",
    "                    roi[\"y\"], roi[\"x\"], label=f\"roi {iroi}\", s=1, color=\"k\", alpha=0.05\n",
    "                )\n",
    "            ax.scatter(\n",
    "                bcc[\"y\"], bcc[\"x\"], label=f\"roi {iroi}\", s=5, color=f\"C{bci}\", alpha=0.5\n",
    "            )\n",
    "            ax.axis(\"equal\")\n",
    "            ax.axis(\"off\")\n",
    "fig.tight_layout()"
   ]
  },
  {
   "cell_type": "code",
   "execution_count": null,
   "metadata": {},
   "outputs": [],
   "source": [
    "plt.plot(n_bc_with_N.keys(), n_bc_with_N.values(), \"o-\", label=\"with N\")\n",
    "plt.ylabel(\"Number of unique barcodes\")\n",
    "plt.xlabel(\"Edit distance\")\n",
    "plt.legend()"
   ]
  },
  {
   "cell_type": "code",
   "execution_count": null,
   "metadata": {},
   "outputs": [],
   "source": [
    "nan_to_start = np.sum([\"N\" in i for i in non_corr.index])\n",
    "nan_after = np.sum([\"N\" in i for i in corr.index])\n",
    "print(f\"Number of 'unique' sequences with N before correction: {nan_to_start}\")\n",
    "print(f\"Number of 'unique' sequences with N after correction: {nan_after}\")\n",
    "print(f\"Number of sequences with N corrected: {nan_to_start-nan_after}\")"
   ]
  },
  {
   "cell_type": "code",
   "execution_count": null,
   "metadata": {},
   "outputs": [],
   "source": [
    "fig = plt.figure(figsize=(7, 3))\n",
    "fig.suptitle(\"# Rolonies per sequence\")\n",
    "ax = fig.add_subplot(1, 2, 1)\n",
    "ax.hist(\n",
    "    non_corr.values,\n",
    "    bins=np.arange(0, corr.max(), 10),\n",
    "    log=True,\n",
    "    histtype=\"step\",\n",
    "    label=\"non-corrected\",\n",
    ")\n",
    "ax.hist(\n",
    "    corr.values,\n",
    "    bins=np.arange(0, corr.max(), 10),\n",
    "    log=True,\n",
    "    histtype=\"step\",\n",
    "    label=\"corrected\",\n",
    ")\n",
    "ax = fig.add_subplot(1, 2, 2)\n",
    "ax.hist(\n",
    "    non_corr.values,\n",
    "    bins=np.arange(100),\n",
    "    log=True,\n",
    "    label=\"non-corrected\",\n",
    "    histtype=\"step\",\n",
    ")\n",
    "ax.hist(corr.values, bins=np.arange(100), log=True, label=\"corrected\", histtype=\"step\")\n",
    "ax.legend(loc=\"upper right\")\n",
    "fig.tight_layout()"
   ]
  },
  {
   "cell_type": "code",
   "execution_count": null,
   "metadata": {},
   "outputs": [],
   "source": [
    "fig = plt.figure(figsize=(7, 3))\n",
    "fig.suptitle(\"# Rolonies per sequence\")\n",
    "ax = fig.add_subplot(1, 2, 1)\n",
    "ax.hist(\n",
    "    non_corr.values,\n",
    "    bins=np.arange(corr.max()),\n",
    "    log=False,\n",
    "    histtype=\"step\",\n",
    "    label=\"non-corrected\",\n",
    "    cumulative=True,\n",
    "    density=True,\n",
    ")\n",
    "ax.hist(\n",
    "    corr.values,\n",
    "    bins=np.arange(corr.max()),\n",
    "    log=False,\n",
    "    histtype=\"step\",\n",
    "    label=\"corrected\",\n",
    "    cumulative=True,\n",
    "    density=True,\n",
    ")\n",
    "ax = fig.add_subplot(1, 2, 2)\n",
    "ax.hist(\n",
    "    non_corr.values,\n",
    "    bins=np.arange(100),\n",
    "    log=False,\n",
    "    label=\"non-corrected\",\n",
    "    histtype=\"step\",\n",
    "    density=True,\n",
    ")\n",
    "ax.hist(\n",
    "    corr.values,\n",
    "    bins=np.arange(100),\n",
    "    log=False,\n",
    "    label=\"corrected\",\n",
    "    histtype=\"step\",\n",
    "    density=True,\n",
    ")\n",
    "ax.legend(loc=\"upper right\")\n",
    "fig.tight_layout()"
   ]
  },
  {
   "cell_type": "code",
   "execution_count": null,
   "metadata": {},
   "outputs": [],
   "source": [
    "from iss_preprocess.call import BASES\n",
    "\n",
    "th = 1\n",
    "good = corr[corr > 30].index\n",
    "print(len(good))\n",
    "sequences = np.stack(err_corr[\"corrected_sequence\"].to_numpy())\n",
    "error_along_sequence = np.zeros((len(good), sequences.shape[1]))\n",
    "bases = list(BASES) + [\"N\"]\n",
    "for ibar, barcode in enumerate(good):\n",
    "    seq = [bases.index(b) for b in barcode]\n",
    "    diff = sequences - seq\n",
    "    edit_distance = np.sum(diff != 0, axis=1)\n",
    "    actual_errs = edit_distance <= th\n",
    "    bad_barcode = diff[actual_errs]\n",
    "    error_along_sequence[ibar] = np.any(bad_barcode != 0, axis=0)"
   ]
  },
  {
   "cell_type": "code",
   "execution_count": null,
   "metadata": {},
   "outputs": [],
   "source": [
    "def plot_error_along_seq(error_along_sequence):\n",
    "    fig = plt.figure(figsize=(10, 5))\n",
    "    fig.suptitle(\"Errors along sequence (edit distance 1)\")\n",
    "    ax = fig.add_subplot(1, 2, 1)\n",
    "    im = ax.imshow(error_along_sequence, aspect=\"auto\")\n",
    "    ax.set_xlabel(\"Position\")\n",
    "    ax.set_ylabel(\"Barcode\")\n",
    "    cb = fig.colorbar(im, ax=ax)\n",
    "    cb.set_label(\"Errors\")\n",
    "    ax = fig.add_subplot(1, 2, 2)\n",
    "    ax.plot(np.mean(error_along_sequence, axis=0))\n",
    "    ax.set_xlabel(\"Position\")\n",
    "    ax.set_ylabel(\"Mean errors\")\n",
    "    fig.tight_layout()\n",
    "    return fig\n",
    "\n",
    "\n",
    "f = plot_error_along_seq(error_along_sequence)"
   ]
  },
  {
   "cell_type": "code",
   "execution_count": null,
   "metadata": {},
   "outputs": [],
   "source": [
    "non_corr = err_corr.bases.value_counts()\n",
    "corr = err_corr.corrected_bases.value_counts()\n",
    "df_non_corr = pd.DataFrame(dict(seq=non_corr.index, cnt=non_corr.values))\n",
    "df_corr = pd.DataFrame(dict(seq=corr.index, cnt=corr.values))\n",
    "\n",
    "print(df_non_corr.head())"
   ]
  },
  {
   "cell_type": "code",
   "execution_count": null,
   "metadata": {},
   "outputs": [],
   "source": [
    "ok = df_non_corr.cnt > 50\n",
    "print(df_non_corr[ok].cnt.sum() / df_non_corr.cnt.sum())\n",
    "ok = df_corr.cnt > 50\n",
    "print(df_corr[ok].cnt.sum() / df_corr.cnt.sum())"
   ]
  },
  {
   "cell_type": "code",
   "execution_count": null,
   "metadata": {},
   "outputs": [],
   "source": [
    "fig = plt.figure(figsize=(5, 3))\n",
    "ax = fig.add_subplot(1, 1, 1)\n",
    "ax.plot(np.log(df_non_corr.index), np.log(df_non_corr[\"cnt\"]), label=\"non-corrected\")\n",
    "ax.plot(np.log(df_corr.index), np.log(df_corr[\"cnt\"]), label=\"corrected\")\n",
    "plt.legend()\n",
    "ax.set_xlabel(\"Rank\")\n",
    "ax.set_ylabel(\"log(count)\")"
   ]
  },
  {
   "cell_type": "code",
   "execution_count": null,
   "metadata": {},
   "outputs": [],
   "source": []
  },
  {
   "cell_type": "code",
   "execution_count": null,
   "metadata": {},
   "outputs": [],
   "source": []
  },
  {
   "cell_type": "markdown",
   "metadata": {},
   "source": [
    "# Check registration\n",
    "\n",
    "Save overview plot to check registration"
   ]
  },
  {
   "cell_type": "code",
   "execution_count": null,
   "metadata": {},
   "outputs": [],
   "source": [
    "from pathlib import Path\n",
    "\n",
    "redo = False\n",
    "if redo:\n",
    "    chamber = \"chamber_10\"\n",
    "    print(chamber)\n",
    "    for roi in range(1, 11):\n",
    "        jid = issp.vis.diagnostics.check_barcode_mcherry_reg(\n",
    "            data_path=data_path + f\"/{chamber}\",\n",
    "            roi=roi,\n",
    "            barcode_prefix=\"barcode_round_1_1\",\n",
    "            mcherry_prefix=\"mCherry_1\",\n",
    "            target=analysis_folder / \"barcode_mcherry_reg\" / f\"{chamber}_{roi}.png\",\n",
    "            slurm_folder=Path.home() / \"slurm_logs\" / data_path,\n",
    "            scripts_name=f\"barcode_mcherry_reg_{chamber}_{roi}\",\n",
    "            use_slurm=True,\n",
    "            slurm_options=dict(time=\"3:00:00\", mem=\"72G\"),\n",
    "        )\n",
    "        print(jid)"
   ]
  },
  {
   "cell_type": "code",
   "execution_count": null,
   "metadata": {},
   "outputs": [],
   "source": [
    "data_path"
   ]
  },
  {
   "cell_type": "code",
   "execution_count": null,
   "metadata": {},
   "outputs": [],
   "source": [
    "# Look at one tile\n",
    "data_path = \"becalia_rabies_barseq/BRAC8498.3e/\"\n",
    "chamber = \"chamber_07\"\n",
    "dpath = data_path + f\"/{chamber}\"\n",
    "ops = issp.io.load_ops(dpath)\n",
    "tile_coors = ops[\"barcode_ref_tiles\"][0]\n",
    "tile_coors = (9, 2, 5)\n",
    "# tile_coors = (3,1,4)\n",
    "stacks = {}\n",
    "for prefix in [\n",
    "    \"mCherry_1\",\n",
    "    \"barcode_round_1_1\",\n",
    "    \"hybridisation_round_2_1\",\n",
    "    \"mCherry_1_masks\",\n",
    "]:\n",
    "    projection = \"corrected\" if \"mask\" in prefix else None\n",
    "    stack, _ = issp.pipeline.stitch.load_tile_ref_coors(\n",
    "        dpath, tile_coors, prefix, filter_r=False, projection=projection\n",
    "    )\n",
    "    stacks[prefix] = stack\n",
    "    print(f\"{prefix}: {stack.shape}\")"
   ]
  },
  {
   "cell_type": "code",
   "execution_count": null,
   "metadata": {},
   "outputs": [],
   "source": [
    "tile_name = \"_\".join(map(str, tile_coors))\n",
    "barcodes = err_corr[(err_corr.chamber == chamber) & (err_corr.tile == tile_name)].copy()\n",
    "tc = issp.pipeline.stitch.get_tile_corners(\n",
    "    dpath, prefix=ops[\"reference_prefix\"], roi=tile_coors[0]\n",
    ")\n",
    "tc = tc[tile_coors[1], tile_coors[2]]\n",
    "origin = tc.min(axis=1)\n",
    "\n",
    "barcodes[\"tile_x\"] = barcodes[\"x\"] - origin[1]\n",
    "barcodes[\"tile_y\"] = barcodes[\"y\"] - origin[0]"
   ]
  },
  {
   "cell_type": "code",
   "execution_count": null,
   "metadata": {},
   "outputs": [],
   "source": [
    "# helper plotting functions\n",
    "def get_stack_part(stack, xlim, ylim):\n",
    "    ylim = sorted(ylim)\n",
    "    xlim = sorted(xlim)\n",
    "    return stack[ylim[0] : ylim[1], xlim[0] : xlim[1]]\n",
    "\n",
    "\n",
    "def get_spot_part(df, xlim, ylim):\n",
    "    ylim = sorted(ylim)\n",
    "    xlim = sorted(xlim)\n",
    "    return df[\n",
    "        (df[\"tile_x\"] >= xlim[0])\n",
    "        & (df[\"tile_x\"] < xlim[1])\n",
    "        & (df[\"tile_y\"] >= ylim[0])\n",
    "        & (df[\"tile_y\"] < ylim[1])\n",
    "    ]"
   ]
  },
  {
   "cell_type": "code",
   "execution_count": null,
   "metadata": {},
   "outputs": [],
   "source": [
    "fig = plt.figure(figsize=(10, 10))\n",
    "xlim = (512, 2460)\n",
    "ylim = (512, 2460)\n",
    "mCherry = get_stack_part(stacks[\"mCherry_1\"][..., 2, 0], xlim=xlim, ylim=ylim)\n",
    "rabies_img = np.nanmax(\n",
    "    get_stack_part(stacks[\"barcode_round_1_1\"], xlim=xlim, ylim=ylim), axis=(2, 3)\n",
    ")\n",
    "dapi = get_stack_part(\n",
    "    stacks[\"hybridisation_round_2_1\"][..., 3, 0], xlim=xlim, ylim=ylim\n",
    ")\n",
    "masks = get_stack_part(\n",
    "    stacks[\"mCherry_1_masks\"][..., 0, 0], xlim=xlim, ylim=ylim\n",
    ").astype(float)\n",
    "masks[masks == 0] = np.nan\n",
    "\n",
    "ax = fig.add_subplot(1, 1, 1)\n",
    "st = np.stack([mCherry, rabies_img, dapi], axis=-1)\n",
    "rgb = issp.vis.to_rgb(\n",
    "    st,\n",
    "    colors=[(1, 0, 0), (0, 1, 0), (0, 0, 1)],\n",
    "    vmax=np.nanpercentile(st, 99.9, axis=(0, 1)),\n",
    ")\n",
    "ax.imshow(rgb)\n",
    "ax.imshow(masks, alpha=0.1, cmap=\"prism\")\n",
    "ax.contour(~np.isnan(masks), levels=[0.5], colors=\"w\")\n",
    "bc = get_spot_part(barcodes, xlim, ylim)\n",
    "ax.scatter(\n",
    "    bc[\"tile_x\"] - xlim[0],\n",
    "    bc[\"tile_y\"] - ylim[0],\n",
    "    s=5,\n",
    "    ec=\"purple\",\n",
    "    fc=\"none\",\n",
    "    marker=\"o\",\n",
    "    lw=0.5,\n",
    ")\n",
    "ax.axis(\"off\")\n",
    "fig.tight_layout()"
   ]
  },
  {
   "cell_type": "code",
   "execution_count": null,
   "metadata": {},
   "outputs": [],
   "source": []
  },
  {
   "cell_type": "markdown",
   "metadata": {},
   "source": []
  },
  {
   "cell_type": "markdown",
   "metadata": {},
   "source": [
    "# Look at starters"
   ]
  },
  {
   "cell_type": "markdown",
   "metadata": {},
   "source": [
    "## Select example ROI"
   ]
  },
  {
   "cell_type": "code",
   "execution_count": null,
   "metadata": {},
   "outputs": [],
   "source": [
    "# try to make a big registered mask image\n",
    "chamber = \"chamber_08\"\n",
    "roi = 4\n",
    "print(data_path + f\"/{chamber}\")"
   ]
  },
  {
   "cell_type": "markdown",
   "metadata": {},
   "source": [
    "## Load mCherry masks"
   ]
  },
  {
   "cell_type": "code",
   "execution_count": null,
   "metadata": {},
   "outputs": [],
   "source": [
    "chamber = \"chamber_07\"\n",
    "roi = 8\n",
    "bigmask = issp.pipeline.stitch_registered(\n",
    "    data_path + f\"/{chamber}\",\n",
    "    prefix=\"mCherry_1_masks\",\n",
    "    roi=roi,\n",
    "    projection=\"corrected\",\n",
    ")\n",
    "bigmask = issp.pipeline.segment.get_big_masks(\n",
    "    data_path + f\"/{chamber}\", roi, bigmask, mask_expansion=5\n",
    ")[..., 0]"
   ]
  },
  {
   "cell_type": "code",
   "execution_count": null,
   "metadata": {},
   "outputs": [],
   "source": [
    "big_rabies = issp.pipeline.stitch_registered(\n",
    "    data_path + f\"/{chamber}\",\n",
    "    prefix=\"barcode_round_1_1\",\n",
    "    roi=roi,\n",
    "    projection=None,\n",
    ")"
   ]
  },
  {
   "cell_type": "code",
   "execution_count": null,
   "metadata": {},
   "outputs": [],
   "source": [
    "big_mcherry = issp.pipeline.stitch_registered(\n",
    "    data_path + f\"/{chamber}\",\n",
    "    prefix=\"mCherry_1\",\n",
    "    roi=roi,\n",
    "    channels=2,\n",
    "    projection=None,\n",
    ")"
   ]
  },
  {
   "cell_type": "code",
   "execution_count": null,
   "metadata": {},
   "outputs": [],
   "source": [
    "print(bigmask.shape, big_rabies.shape, big_mcherry.shape)"
   ]
  },
  {
   "cell_type": "code",
   "execution_count": null,
   "metadata": {},
   "outputs": [],
   "source": [
    "st = np.dstack([big_mcherry, big_rabies])\n",
    "rgb = issp.vis.to_rgb(\n",
    "    st,\n",
    "    colors=[(1, 0, 0), (0, 1, 0)],\n",
    "    vmax=np.nanpercentile(st, 99.9, axis=(0, 1)),\n",
    ")"
   ]
  },
  {
   "cell_type": "code",
   "execution_count": null,
   "metadata": {},
   "outputs": [],
   "source": [
    "fig = plt.figure(figsize=(20, 20))\n",
    "ax = fig.add_subplot(1, 1, 1)\n",
    "ax.set_title(f\"{chamber}, roi {roi}\")\n",
    "ax.imshow(rgb)\n",
    "m = bigmask.astype(float)\n",
    "m[m == 0] = np.nan\n",
    "ax.imshow(m, alpha=0.1, cmap=\"prism\")\n",
    "ax.contour(~np.isnan(m), levels=[0.5], colors=\"w\")\n",
    "ax.set_xlim(7500, 18000)\n",
    "ax.set_ylim(6000, 16000)"
   ]
  },
  {
   "cell_type": "code",
   "execution_count": null,
   "metadata": {},
   "outputs": [],
   "source": [
    "redo = False\n",
    "if redo:\n",
    "    slurm_folder = Path.home() / \"slurm_logs\" / data_path / \"mcherry_logs\"\n",
    "    print(slurm_folder)\n",
    "    slurm_folder.mkdir(exist_ok=True)\n",
    "    for chamber in [f\"chamber_{i:02}\" for i in range(7, 11)]:\n",
    "        print(chamber)\n",
    "        issp.pipeline.segment.remove_all_duplicate_masks(\n",
    "            data_path + f\"/{chamber}\",\n",
    "            prefix=\"mCherry_1\",\n",
    "            upper_overlap_thresh=0.3,\n",
    "            use_slurm=True,\n",
    "            slurm_folder=slurm_folder,\n",
    "            scripts_name=f\"remove_overlapping_{chamber}\",\n",
    "        )"
   ]
  },
  {
   "cell_type": "code",
   "execution_count": null,
   "metadata": {},
   "outputs": [],
   "source": [
    "df = err_corr[(err_corr[\"chamber\"] == chamber) & (err_corr[\"roi\"] == roi)].copy()\n",
    "barcode_in_cells = issp.segment.cells.count_spots(\n",
    "    df, grouping_column=\"corrected_bases\", masks=bigmask\n",
    ")\n",
    "all_cells = np.unique(bigmask)\n",
    "missing = set(all_cells) - set(barcode_in_cells.index)\n",
    "missing_df = pd.DataFrame(\n",
    "    index=list(missing),\n",
    "    columns=barcode_in_cells.columns,\n",
    "    data=np.zeros((len(missing), len(barcode_in_cells.columns))),\n",
    ")\n",
    "barcode_in_cells = pd.concat([barcode_in_cells, missing_df])"
   ]
  },
  {
   "cell_type": "code",
   "execution_count": null,
   "metadata": {},
   "outputs": [],
   "source": [
    "barcode_in_cells.head()"
   ]
  },
  {
   "cell_type": "code",
   "execution_count": null,
   "metadata": {},
   "outputs": [],
   "source": [
    "err_corr = barcode_spots"
   ]
  },
  {
   "cell_type": "code",
   "execution_count": null,
   "metadata": {},
   "outputs": [],
   "source": [
    "from pathlib import Path\n",
    "import iss_analysis as issa\n",
    "\n",
    "redo = False\n",
    "skip_not_done = False\n",
    "use_slurm = True\n",
    "all_cells_list = []\n",
    "edist = 2\n",
    "target_folder = analysis_folder / \"barcode_in_mcherry_cells\"\n",
    "if not target_folder.exists():\n",
    "    target_folder.mkdir()\n",
    "print(target_folder)\n",
    "for chamber in [f\"chamber_{i:02}\" for i in [7, 8, 9, 10]]:  # err_corr.chamber.unique():\n",
    "    print(f\"Doing {chamber}\")\n",
    "    for roi in range(1, 11):  # err_corr.roi.unique():\n",
    "        target = target_folder / f\"barcode_in_cells_{chamber}_{roi}.pkl\"\n",
    "        if not redo and target.exists():\n",
    "            # print(f\"    Reloading already processed roi\")\n",
    "            barcode_in_cells = pd.read_pickle(target)\n",
    "        else:\n",
    "            if skip_not_done:\n",
    "                print(f\"     Skipping {chamber}, {roi}\", flush=True)\n",
    "                continue\n",
    "            print(f\"     Processing {chamber}, {roi}\", flush=True)\n",
    "            if use_slurm:\n",
    "                err_corr_fname = str(\n",
    "                    analysis_folder / f\"corrected_barcode_spots_edit{edist}.pkl\"\n",
    "                )\n",
    "                print(\"       Starting slurm job\")\n",
    "                slurm_folder = (\n",
    "                    Path.home()\n",
    "                    / \"slurm_logs\"\n",
    "                    / (data_path + f\"/{chamber}\")\n",
    "                    / \"segment_spots\"\n",
    "                )\n",
    "                slurm_folder.mkdir(parents=True, exist_ok=True)\n",
    "                job = issa.segment.get_barcode_in_cells(\n",
    "                    chamber,\n",
    "                    roi,\n",
    "                    data_path,\n",
    "                    err_corr_fname,\n",
    "                    save_folder=str(target_folder),\n",
    "                    use_slurm=True,\n",
    "                    slurm_folder=slurm_folder,\n",
    "                    scripts_name=f\"segment_spots_{chamber}_{roi}\",\n",
    "                )\n",
    "                continue\n",
    "            try:\n",
    "                barcode_in_cells = issa.segment.get_barcode_in_cells(\n",
    "                    chamber, roi, data_path, err_corr, save_folder=target_folder\n",
    "                )\n",
    "            except Exception as e:\n",
    "                print(f\"Error processing {chamber}, {roi}: {e}\")\n",
    "                continue\n",
    "        barcode_in_cells = barcode_in_cells.loc[barcode_in_cells.index != 0].copy()\n",
    "        barcode_in_cells.index = barcode_in_cells.index.map(\n",
    "            lambda x: f\"{chamber}_{roi}_{x}\"\n",
    "        )\n",
    "        all_cells_list.append(barcode_in_cells)\n",
    "all_cells = pd.concat(all_cells_list)\n",
    "all_cells.fillna(0, inplace=True)\n",
    "print(all_cells.shape)\n",
    "# add missing barcodes\n",
    "missing = set(err_corr.corrected_bases.unique()) - set(all_cells.columns)\n",
    "missing_df = pd.DataFrame(\n",
    "    index=all_cells.index,\n",
    "    columns=list(missing),\n",
    "    data=np.zeros((len(all_cells), len(missing))),\n",
    ")\n",
    "all_cells = pd.concat([all_cells, missing_df], axis=1)\n",
    "print(all_cells.shape)"
   ]
  },
  {
   "cell_type": "markdown",
   "metadata": {},
   "source": [
    "cnt_array = all_cells.values.astype(int)"
   ]
  },
  {
   "cell_type": "code",
   "execution_count": null,
   "metadata": {},
   "outputs": [],
   "source": [
    "all_cells.head()"
   ]
  },
  {
   "cell_type": "code",
   "execution_count": null,
   "metadata": {},
   "outputs": [],
   "source": [
    "rol_per_barcode = err_corr.corrected_bases.value_counts()\n",
    "rol_per_barcode.head()"
   ]
  },
  {
   "cell_type": "code",
   "execution_count": null,
   "metadata": {},
   "outputs": [],
   "source": []
  },
  {
   "cell_type": "code",
   "execution_count": null,
   "metadata": {},
   "outputs": [],
   "source": [
    "# order the columns of all cells by rolony abundance\n",
    "seq = rol_per_barcode.index\n",
    "reorderd = all_cells[seq]\n",
    "plt.scatter(np.sum(reorderd >= 5, axis=0).values, rol_per_barcode.values)\n",
    "plt.ylabel(\"Total # of rolonies\")\n",
    "plt.xlabel(\"# of starter cells with 5 or more rolonies\")"
   ]
  },
  {
   "cell_type": "code",
   "execution_count": null,
   "metadata": {},
   "outputs": [],
   "source": [
    "reorderd.head()"
   ]
  },
  {
   "cell_type": "code",
   "execution_count": null,
   "metadata": {},
   "outputs": [],
   "source": [
    "plt.hist(reorderd.values.flatten(), bins=np.arange(0, 100, 1), log=True)"
   ]
  },
  {
   "cell_type": "code",
   "execution_count": null,
   "metadata": {},
   "outputs": [],
   "source": []
  },
  {
   "cell_type": "code",
   "execution_count": null,
   "metadata": {},
   "outputs": [],
   "source": [
    "mat = reorderd.values\n",
    "print(mat.shape)\n",
    "\n",
    "bc_per_cell = np.sum(mat >= 5, axis=1)\n",
    "_ = plt.hist(bc_per_cell, bins=np.arange(0, 10, 1) - 0.5)\n",
    "plt.ylim(0, 500)"
   ]
  },
  {
   "cell_type": "code",
   "execution_count": null,
   "metadata": {},
   "outputs": [],
   "source": [
    "data = pd.DataFrame(\n",
    "    data=dict(\n",
    "        rolnum=rol_per_barcode.values,\n",
    "        ncells=np.sum(reorderd >= 5, axis=0).values,\n",
    "        sequence=seq,\n",
    "    )\n",
    ")\n",
    "data.head()"
   ]
  },
  {
   "cell_type": "code",
   "execution_count": null,
   "metadata": {},
   "outputs": [],
   "source": []
  },
  {
   "cell_type": "code",
   "execution_count": null,
   "metadata": {},
   "outputs": [],
   "source": []
  },
  {
   "cell_type": "code",
   "execution_count": null,
   "metadata": {},
   "outputs": [],
   "source": [
    "plt.hist(\n",
    "    data[data.ncells == 1].rolnum,\n",
    "    bins=np.geomspace(1, 10000, 20),\n",
    "    alpha=0.5,\n",
    "    label=\"1 cell\",\n",
    ")\n",
    "plt.semilogx()"
   ]
  },
  {
   "cell_type": "code",
   "execution_count": null,
   "metadata": {},
   "outputs": [],
   "source": []
  },
  {
   "cell_type": "code",
   "execution_count": null,
   "metadata": {},
   "outputs": [],
   "source": [
    "import seaborn as sns\n",
    "\n",
    "fig = plt.figure(figsize=(5, 5))\n",
    "ax = fig.add_subplot(1, 1, 1)\n",
    "df = data[data.ncells < 4]\n",
    "v = [d.rolnum.values for _, d in data.groupby(\"ncells\")]\n",
    "ax.hist(v, bins=np.geomspace(1, data.rolnum.max(), 20), stacked=True)\n",
    "ax.set_xscale(\"log\")\n",
    "\n",
    "fig.tight_layout()"
   ]
  },
  {
   "cell_type": "code",
   "execution_count": null,
   "metadata": {},
   "outputs": [],
   "source": [
    "data[(data.rolnum > 1000) & (data.ncells == 1)]"
   ]
  },
  {
   "cell_type": "code",
   "execution_count": null,
   "metadata": {},
   "outputs": [],
   "source": [
    "bc = err_corr[err_corr[\"corrected_bases\"] == \"ATCATCGACTTCAC\"]\n",
    "\n",
    "nchamber = 4\n",
    "nrois = 10\n",
    "fig, axes = plt.subplots(nrois, nchamber, figsize=(20, 40))\n",
    "bci = 0\n",
    "for ich, ch_name in enumerate([f\"chamber_{i:02}\" for i in range(7, 11)]):\n",
    "    for iroi, roi_name in enumerate(range(10)):\n",
    "        roi = err_corr[(err_corr[\"chamber\"] == ch_name) & (err_corr[\"roi\"] == roi_name)]\n",
    "        ax = axes[iroi, ich]\n",
    "        bcc = bc[(bc.roi == roi_name) & (bc.chamber == ch_name)]\n",
    "        if not bci:\n",
    "            ax.scatter(\n",
    "                roi[\"y\"], roi[\"x\"], label=f\"roi {iroi}\", s=1, color=\"k\", alpha=0.05\n",
    "            )\n",
    "        ax.scatter(bcc[\"y\"], bcc[\"x\"], label=f\"roi {iroi}\", s=5, color=f\"r\", alpha=0.5)\n",
    "        ax.axis(\"equal\")\n",
    "        ax.axis(\"off\")\n",
    "fig.tight_layout()"
   ]
  },
  {
   "cell_type": "code",
   "execution_count": null,
   "metadata": {},
   "outputs": [],
   "source": [
    "bc_cnt = err_corr.corrected_bases.value_counts()\n",
    "print(bc_cnt.shape)\n",
    "valid_barcodes = bc_cnt[bc_cnt > 1000].index\n",
    "print(len(valid_barcodes))\n",
    "all_cells_valid_bc = all_cells[valid_barcodes]\n",
    "valid_barcodes"
   ]
  },
  {
   "cell_type": "code",
   "execution_count": null,
   "metadata": {},
   "outputs": [],
   "source": [
    "all_cells_valid_bc.head()"
   ]
  },
  {
   "cell_type": "code",
   "execution_count": null,
   "metadata": {},
   "outputs": [],
   "source": [
    "cnt_array = all_cells_valid_bc.astype(int).values"
   ]
  },
  {
   "cell_type": "code",
   "execution_count": null,
   "metadata": {},
   "outputs": [],
   "source": [
    "cnt_array.shape"
   ]
  },
  {
   "cell_type": "code",
   "execution_count": null,
   "metadata": {},
   "outputs": [],
   "source": [
    "np.sum(cnt_array > 5, axis=0).shape"
   ]
  },
  {
   "cell_type": "code",
   "execution_count": null,
   "metadata": {},
   "outputs": [],
   "source": [
    "df = err_corr[(err_corr[\"chamber\"] == chamber) & (err_corr[\"roi\"] == roi)].copy()\n",
    "barcode_in_cells = issp.segment.cells.count_spots(\n",
    "    df, grouping_column=\"corrected_bases\", masks=bigmask\n",
    ")\n",
    "all_cells = np.unique(bigmask)\n",
    "missing = set(all_cells) - set(barcode_in_cells.index)\n",
    "missing_df = pd.DataFrame(\n",
    "    index=list(missing),\n",
    "    columns=barcode_in_cells.columns,\n",
    "    data=np.zeros((len(missing), len(barcode_in_cells.columns))),\n",
    ")\n",
    "barcode_in_cells = pd.concat([barcode_in_cells, missing_df])"
   ]
  },
  {
   "cell_type": "code",
   "execution_count": null,
   "metadata": {},
   "outputs": [],
   "source": [
    "p0 = 0.85\n",
    "p1 = 0.14\n",
    "p2 = 1 - (p0 + p1)\n",
    "print(p0, p1, p2)"
   ]
  },
  {
   "cell_type": "code",
   "execution_count": null,
   "metadata": {},
   "outputs": [],
   "source": [
    "(2 * p0 + p1) ** 2 + 4 * p0 * (p0 + p1 + p2)"
   ]
  },
  {
   "cell_type": "code",
   "execution_count": null,
   "metadata": {},
   "outputs": [],
   "source": [
    "m = ((2 * p0 + p1) + np.sqrt((2 * p0 + p1) ** 2 - 4 * p0 * (p0 + p1 + p2))) / (\n",
    "    2 * (p0 + p1 + p2)\n",
    ")\n",
    "print(m)"
   ]
  },
  {
   "cell_type": "code",
   "execution_count": null,
   "metadata": {},
   "outputs": [],
   "source": [
    "rol_per_cells = np.sum(cnt_array, axis=1)\n",
    "bar_per_cells = np.sum(cnt_array > 0, axis=1)\n",
    "bar_per_good_cells = np.sum(cnt_array > 5, axis=1)\n",
    "cell_per_barcode = np.sum(cnt_array > 0, axis=0)\n",
    "good_cell_per_barcode = np.sum(cnt_array > 5, axis=0)\n",
    "rol_per_barcode = np.sum(cnt_array, axis=0)\n",
    "\n",
    "fig = plt.figure(figsize=(7, 5))\n",
    "ax = fig.add_subplot(2, 2, 1)\n",
    "ax.hist(rol_per_cells, bins=np.arange(0, rol_per_cells.max(), 1), log=True)\n",
    "ax.set_xlabel(\"Rolonies per cell\")\n",
    "ax = fig.add_subplot(2, 2, 2)\n",
    "ax.hist(rol_per_cells, bins=np.arange(0, rol_per_cells.max(), 1), log=False)\n",
    "ax.set_xlabel(\"Rolonies per cell\")\n",
    "ax = fig.add_subplot(2, 2, 3)\n",
    "ax.hist(\n",
    "    good_cell_per_barcode, bins=np.arange(0, good_cell_per_barcode.max() + 1, 1) - 0.5\n",
    ")\n",
    "ax.set_xlabel(\"Cells per barcode (count > 5)\")\n",
    "ax = fig.add_subplot(2, 2, 4)\n",
    "ax.hist(bar_per_cells, bins=np.arange(0, bar_per_cells.max() + 1, 1) - 0.5)\n",
    "ax.set_xlabel(\"Barcode per cells\")\n",
    "fig.tight_layout()"
   ]
  },
  {
   "cell_type": "code",
   "execution_count": null,
   "metadata": {},
   "outputs": [],
   "source": [
    "pd.Series(good_cell_per_barcode).value_counts()"
   ]
  },
  {
   "cell_type": "code",
   "execution_count": null,
   "metadata": {},
   "outputs": [],
   "source": []
  },
  {
   "cell_type": "code",
   "execution_count": null,
   "metadata": {},
   "outputs": [],
   "source": [
    "plt.scatter(cell_per_barcode, rol_per_barcode)\n",
    "plt.xlabel(\"Cells per barcode\")\n",
    "plt.ylabel(\"Rolonies per barcode\")"
   ]
  },
  {
   "cell_type": "code",
   "execution_count": null,
   "metadata": {},
   "outputs": [],
   "source": [
    "p2 = 0.36 * (1 - 0.85) ** 2\n",
    "p1 = 0.64 * 0.15 + 2 * 0.36 * 0.85 * 0.15\n",
    "print(p2, p1)"
   ]
  },
  {
   "cell_type": "code",
   "execution_count": null,
   "metadata": {},
   "outputs": [],
   "source": [
    "good_cells = cnt_array[cnt_array.max(axis=1) > 5, :]\n",
    "rol_per_cells = np.sum(good_cells, axis=1)\n",
    "bar_per_cells = np.sum(good_cells > 0, axis=1)\n",
    "\n",
    "fig = plt.figure(figsize=(7, 4))\n",
    "ax = fig.add_subplot(1, 2, 1)\n",
    "ax.hist(rol_per_cells, bins=np.arange(0, rol_per_cells.max(), 1), log=False)\n",
    "ax.set_xlabel(\"Rolonies per good cell\")\n",
    "ax = fig.add_subplot(1, 2, 2)\n",
    "ax.hist(bar_per_cells, bins=np.arange(0, bar_per_cells.max(), 1), log=False)\n",
    "ax.set_xlabel(\"Barcode per good cell\")\n",
    "fig.tight_layout()"
   ]
  },
  {
   "cell_type": "code",
   "execution_count": null,
   "metadata": {},
   "outputs": [],
   "source": [
    "# get masks\n",
    "stitched_mask = issp.pipeline.stitch_registered(\n",
    "    data_path + f\"/{chamber}\", prefix=\"mCherry_1_masks\", roi=roi, projection=\"corrected\"\n",
    ")\n",
    "bigmask = issp.pipeline.segment.get_big_masks(\n",
    "    data_path + f\"/{chamber}\", roi, stitched_mask, mask_expansion=5\n",
    ")[..., 0]"
   ]
  },
  {
   "cell_type": "code",
   "execution_count": null,
   "metadata": {},
   "outputs": [],
   "source": [
    "# filter rolonies\n",
    "import numpy as np\n",
    "\n",
    "# df = all_barcode_spots[(all_barcode_spots[\"chamber\"] == chamber) & (all_barcode_spots[\"roi\"] == roi)]\n",
    "df = err_corr[(err_corr[\"chamber\"] == chamber) & (err_corr[\"roi\"] == roi)]"
   ]
  },
  {
   "cell_type": "code",
   "execution_count": null,
   "metadata": {},
   "outputs": [],
   "source": [
    "ylim = [16000, 8000]\n",
    "xlim = [12000, 18000]\n",
    "plt.figure(figsize=(20, 20))\n",
    "\n",
    "# mask with nan for display\n",
    "m = bigmask.astype(float)\n",
    "m[bigmask == 0] = np.nan\n",
    "\n",
    "\n",
    "plt.imshow(\n",
    "    get_stack_part(m, xlim, ylim),\n",
    "    interpolation=\"none\",\n",
    "    alpha=0.5,\n",
    "    cmap=\"prism\",\n",
    "    extent=[xlim[0], xlim[1], ylim[0], ylim[1]],\n",
    ")\n",
    "sp = get_spot_part(df, xlim, ylim)\n",
    "plt.scatter(sp[\"x\"], sp[\"y\"], alpha=0.5, s=1, color=\"k\")"
   ]
  },
  {
   "cell_type": "code",
   "execution_count": null,
   "metadata": {},
   "outputs": [],
   "source": [
    "cell_df = issp.pipeline.segment.make_cell_dataframe(\n",
    "    data_path + f\"/{chamber}\", roi, masks=bigmask, mask_expansion=0, atlas_size=10\n",
    ")\n",
    "cell_df.head()"
   ]
  },
  {
   "cell_type": "code",
   "execution_count": null,
   "metadata": {},
   "outputs": [],
   "source": [
    "analysis_folder"
   ]
  },
  {
   "cell_type": "code",
   "execution_count": null,
   "metadata": {},
   "outputs": [],
   "source": [
    "cell_df.to_pickle(analysis_folder / f\"cell_df_{chamber}_{roi}.pkl\")"
   ]
  },
  {
   "cell_type": "code",
   "execution_count": null,
   "metadata": {},
   "outputs": [],
   "source": [
    "barcode_in_cells = issp.segment.cells.count_spots(\n",
    "    df.copy(), grouping_column=\"corrected_bases\", masks=bigmask[..., 0]\n",
    ")\n",
    "barcode_in_cells.head()"
   ]
  },
  {
   "cell_type": "code",
   "execution_count": null,
   "metadata": {},
   "outputs": [],
   "source": [
    "cell_df.index.name = \"mask_id\"\n",
    "cell_barcode"
   ]
  },
  {
   "cell_type": "code",
   "execution_count": null,
   "metadata": {},
   "outputs": [],
   "source": [
    "bcm = barcode_in_cells.values[1:, :]\n",
    "plt.figure(figsize=(7, 2))\n",
    "plt.suptitle(f\"Chamber {chamber}, roi {roi}\")\n",
    "plt.subplot(1, 3, 1)\n",
    "plt.hist(bcm.sum(axis=1), bins=np.arange(0, 30, 2))\n",
    "plt.ylabel(\"Number of cells\")\n",
    "plt.xlabel(\"Number of spots\\n(all barcodes)\")\n",
    "plt.subplot(1, 3, 2)\n",
    "plt.hist(bcm.max(axis=1), bins=np.arange(0, 30, 2))\n",
    "plt.ylabel(\"Number of cells\")\n",
    "plt.xlabel(\"Number of spots\\n(most abundant barcode)\")\n",
    "plt.subplot(1, 3, 3)\n",
    "plt.hist(np.sum(bcm != 0, axis=1), bins=np.arange(0, 10, 1) - 0.5)\n",
    "plt.ylabel(\"Number of cells\")\n",
    "plt.xlabel(\"Number of\\ndifferent barcodes\")\n",
    "plt.tight_layout()"
   ]
  },
  {
   "cell_type": "code",
   "execution_count": null,
   "metadata": {},
   "outputs": [],
   "source": [
    "plt.scatter(bcm.sum(axis=1), np.sum(bcm != 0, axis=1), c=bcm.max(axis=1))\n",
    "plt.colorbar()"
   ]
  },
  {
   "cell_type": "code",
   "execution_count": null,
   "metadata": {},
   "outputs": [],
   "source": [
    "ylim = [16000, 8000]\n",
    "xlim = [12000, 18000]\n",
    "plt.figure(figsize=(20, 20))\n",
    "\n",
    "# mask with nan for display\n",
    "m = bigmask.astype(float)\n",
    "m[bigmask == 0] = np.nan\n",
    "\n",
    "\n",
    "plt.imshow(m, interpolation=\"none\", alpha=0.5, cmap=\"prism\")\n",
    "\n",
    "plt.scatter(df[\"x\"], df[\"y\"], alpha=0.5, s=1, color=\"k\")\n",
    "plt.xlim(xlim)\n",
    "plt.ylim(ylim)"
   ]
  },
  {
   "cell_type": "code",
   "execution_count": null,
   "metadata": {},
   "outputs": [],
   "source": []
  },
  {
   "cell_type": "code",
   "execution_count": null,
   "metadata": {},
   "outputs": [],
   "source": []
  },
  {
   "cell_type": "code",
   "execution_count": null,
   "metadata": {},
   "outputs": [],
   "source": [
    "ops = issp.io.load_ops(data_path + f\"/{chamber}\")\n",
    "tile = ops[\"mcherry_ref_tiles\"]"
   ]
  },
  {
   "cell_type": "code",
   "execution_count": null,
   "metadata": {},
   "outputs": [],
   "source": [
    "# Load the mCherry masks\n",
    "import numpy as np\n",
    "import matplotlib.pyplot as plt\n",
    "\n",
    "processed = issp.io.get_processed_path(data_path)\n",
    "tname = \"_\".join([str(t) for t in tile])\n",
    "masks_file = processed / chamber / \"cells\" / f\"mCherry_1_masks_corrected_{tname}.npy\"\n",
    "masks = np.load(masks_file)\n",
    "m = masks.astype(float)\n",
    "m[m == 0] = np.nan\n",
    "plt.imshow(m, interpolation=\"None\", cmap=\"prism\")"
   ]
  },
  {
   "cell_type": "code",
   "execution_count": null,
   "metadata": {},
   "outputs": [],
   "source": [
    "# Warp into ref coordinages\n",
    "masks_file = processed / chamber / \"cells\" / f\"mCherry_1_masks_corrected_{tname}.npy\"\n",
    "masks = np.load(masks_file)\n",
    "warped_mask, bad_pixels = issp.pipeline.stitch.warp_stack_to_ref(\n",
    "    masks,\n",
    "    data_path + f\"/{chamber}\",\n",
    "    prefix=\"mCherry_1\",\n",
    "    tile_coors=tile,\n",
    "    interpolation=0,\n",
    ")\n",
    "wm = warped_mask.astype(float)\n",
    "wm[wm == 0] = np.nan\n",
    "plt.imshow(wm[..., 0, 0], interpolation=\"None\", cmap=\"prism\")"
   ]
  },
  {
   "cell_type": "code",
   "execution_count": null,
   "metadata": {},
   "outputs": [],
   "source": [
    "# get tile corners\n",
    "\n",
    "tile_origin"
   ]
  },
  {
   "cell_type": "code",
   "execution_count": null,
   "metadata": {},
   "outputs": [],
   "source": [
    "ok = (err_corr.chamber == chamber) & (\n",
    "    err_corr[\"tile\"] == \"_\".join([str(t) for t in tile])\n",
    ")\n",
    "bc = err_corr[ok]\n",
    "tc = issp.pipeline.stitch.get_tile_corners(\n",
    "    data_path + f\"/{chamber}\", prefix=ops[\"reference_prefix\"], roi=tile[0]\n",
    ")\n",
    "tc = tc[tile[1], tile[2]]\n",
    "tile_origin = tc[:, 0]\n",
    "plt.imshow(wm[..., 0, 0], interpolation=\"None\", cmap=\"prism\", alpha=0.5)\n",
    "plt.scatter(bc.x - tile_origin[1], bc.y - tile_origin[0], s=1, color=\"k\", alpha=0.5)"
   ]
  },
  {
   "cell_type": "code",
   "execution_count": null,
   "metadata": {},
   "outputs": [],
   "source": []
  },
  {
   "cell_type": "code",
   "execution_count": null,
   "metadata": {},
   "outputs": [],
   "source": [
    "issp.pipeline.segment.make_cell_dataframe(\n",
    "    data_path, roi, masks=None, mask_expansion=5.0, atlas_size=10\n",
    ")"
   ]
  }
 ],
 "metadata": {
  "kernelspec": {
   "language": "python"
  },
  "language_info": {
   "codemirror_mode": {
    "name": "ipython",
    "version": 3
   },
   "file_extension": ".py",
   "mimetype": "text/x-python",
   "name": "python",
   "nbconvert_exporter": "python",
   "pygments_lexer": "ipython3"
  }
 },
 "nbformat": 4,
 "nbformat_minor": 2
}
