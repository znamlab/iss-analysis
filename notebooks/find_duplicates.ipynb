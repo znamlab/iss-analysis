{
 "cells": [
  {
   "cell_type": "code",
   "execution_count": null,
   "metadata": {},
   "outputs": [],
   "source": [
    "%load_ext autoreload\n",
    "%autoreload 2"
   ]
  },
  {
   "cell_type": "markdown",
   "metadata": {},
   "source": [
    "# Find duplicates across ROIs\n",
    "\n",
    "Look for cells that are detected on multiple consecutive ROIs"
   ]
  },
  {
   "cell_type": "code",
   "execution_count": null,
   "metadata": {},
   "outputs": [],
   "source": [
    "import iss_preprocess as issp\n",
    "import iss_analysis as issa\n",
    "from iss_analysis.barcodes import barcodes as bar\n",
    "from iss_analysis.barcodes.diagnostics import (\n",
    "    plot_gmm_clusters,\n",
    "    plot_error_along_sequence,\n",
    ")\n",
    "import matplotlib.pyplot as plt\n",
    "import numpy as np\n",
    "import pandas as pd"
   ]
  },
  {
   "cell_type": "code",
   "execution_count": null,
   "metadata": {},
   "outputs": [],
   "source": [
    "project = \"becalia_rabies_barseq\"\n",
    "mouse = \"BRAC8498.3e\"\n",
    "\n",
    "error_correction_ds_name = \"BRAC8498.3e_error_corrected_barcodes_16\"\n",
    "data_path = f\"{project}/{mouse}\"\n",
    "analysis_folder = issp.io.get_processed_path(data_path) / \"analysis\"\n"
   ]
  },
  {
   "cell_type": "markdown",
   "metadata": {},
   "source": [
    "# Get rabies data"
   ]
  },
  {
   "cell_type": "code",
   "execution_count": null,
   "metadata": {},
   "outputs": [],
   "source": [
    "(\n",
    "    rab_spot_df,\n",
    "    rab_cells_barcodes,\n",
    "    rab_cells_properties,\n",
    ") = issa.segment.get_barcode_in_cells(\n",
    "    project,\n",
    "    mouse,\n",
    "    error_correction_ds_name,\n",
    "    valid_chambers=None,\n",
    "    save_folder=None,\n",
    "    verbose=True,\n",
    ")\n",
    "# find starter\n",
    "starters_positions = issa.io.get_starter_cells(project, mouse)\n",
    "rabies_cell_properties = issa.segment.match_starter_to_barcodes(\n",
    "    project,\n",
    "    mouse,\n",
    "    rab_cells_properties,\n",
    "    rab_spot_df,\n",
    "    starters=starters_positions,\n",
    "    redo=False,\n",
    ")\n",
    "rabies_cell_properties.head()\n"
   ]
  },
  {
   "cell_type": "markdown",
   "metadata": {},
   "source": [
    "# Get ARA coordinates of spots"
   ]
  },
  {
   "cell_type": "code",
   "execution_count": null,
   "metadata": {},
   "outputs": [],
   "source": [
    "for (chamber, roi), spots in rab_spot_df.groupby([\"chamber\", \"roi\"]):\n",
    "    data_path = f\"{project}/{mouse}/{chamber}\"\n",
    "    sp = issp.pipeline.ara_registration.spots_ara_infos(data_path, spots, roi, atlas_size=10, acronyms=False, inplace=False)\n",
    "    for col in ['ara_x', 'ara_y', 'ara_z', 'area_id']:\n",
    "        rab_spot_df.loc[spots.index, col] = sp[col]\n",
    "\n"
   ]
  },
  {
   "cell_type": "code",
   "execution_count": null,
   "metadata": {},
   "outputs": [],
   "source": [
    "# same for cells\n",
    "for (chamber, roi), cell_prop in rabies_cell_properties.groupby([\"chamber\", \"roi\"]):\n",
    "    data_path = f\"{project}/{mouse}/{chamber}\"\n",
    "    sp = issp.pipeline.ara_registration.spots_ara_infos(data_path, cell_prop, roi, atlas_size=10, acronyms=False, inplace=False)\n",
    "    for col in ['ara_x', 'ara_y', 'ara_z', 'area_id']:\n",
    "        rabies_cell_properties.loc[cell_prop.index, col] = sp[col]\n"
   ]
  },
  {
   "cell_type": "code",
   "execution_count": null,
   "metadata": {},
   "outputs": [],
   "source": []
  },
  {
   "cell_type": "code",
   "execution_count": null,
   "metadata": {},
   "outputs": [],
   "source": [
    "print(chamber, roi)\n",
    "fig = plt.figure(figsize=(10, 10))  \n",
    "ax = fig.add_subplot(1,1,1, aspect='equal')\n",
    "sp = rab_spot_df.query(\"chamber == @chamber & roi == @roi\")\n",
    "ax.scatter(sp.x, sp.y, c=sp.area_id%20, cmap=\"tab20\", vmin=0, vmax=20)\n",
    "cells = rabies_cell_properties.query(\"chamber == @chamber & roi == @roi\")\n",
    "ax.scatter(cells.x, cells.y, c=cells.area_id%20, cmap=\"tab20\", marker=\"x\", s=100, vmin=0, vmax=20)"
   ]
  },
  {
   "cell_type": "code",
   "execution_count": null,
   "metadata": {},
   "outputs": [],
   "source": []
  }
 ],
 "metadata": {
  "kernelspec": {
   "language": "python"
  },
  "language_info": {
   "codemirror_mode": {
    "name": "ipython",
    "version": 3
   },
   "file_extension": ".py",
   "mimetype": "text/x-python",
   "name": "python",
   "nbconvert_exporter": "python",
   "pygments_lexer": "ipython3"
  }
 },
 "nbformat": 4,
 "nbformat_minor": 2
}
