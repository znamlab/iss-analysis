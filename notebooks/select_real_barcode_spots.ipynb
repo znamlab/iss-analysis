{
 "cells": [
  {
   "cell_type": "markdown",
   "metadata": {},
   "source": [
    "# Select real barcode spots\n",
    "\n",
    "The base calling is done on everything that could be a rabies spot. We then need to\n",
    "select the real spots before doing error correction."
   ]
  },
  {
   "cell_type": "code",
   "execution_count": null,
   "metadata": {},
   "outputs": [],
   "source": [
    "%load_ext autoreload\n",
    "%autoreload 2"
   ]
  },
  {
   "cell_type": "markdown",
   "metadata": {},
   "source": [
    "## Load an example tile"
   ]
  },
  {
   "cell_type": "code",
   "execution_count": null,
   "metadata": {},
   "outputs": [],
   "source": [
    "import numpy as np\n",
    "import pandas as pd\n",
    "import iss_preprocess as issp\n",
    "from iss_preprocess.vis import plot_matrix_with_colorbar\n",
    "from iss_preprocess.pipeline.sequencing import load_spot_sign_image\n",
    "import matplotlib.pyplot as plt\n",
    "\n",
    "mouse = \"BRAC8498.3e\"\n",
    "chamber = \"chamber_07\"\n",
    "data_path = f\"becalia_rabies_barseq/{mouse}/{chamber}\"\n",
    "ref_tile_index = 0  # which of the reference tiles do we want to use for plots"
   ]
  },
  {
   "cell_type": "code",
   "execution_count": null,
   "metadata": {},
   "outputs": [],
   "source": [
    "# Load some example data\n",
    "processed_path = issp.io.get_processed_path(data_path)\n",
    "ops = issp.io.load.load_ops(data_path)\n",
    "tile_coors = ops[\"barcode_ref_tiles\"][ref_tile_index]\n",
    "cluster_means = np.load(processed_path / \"barcode_cluster_means.npy\")\n",
    "\n",
    "stack, bad_pixels = issp.pipeline.load_and_register_sequencing_tile(\n",
    "    data_path,\n",
    "    tile_coors,\n",
    "    filter_r=ops[\"filter_r\"],\n",
    "    prefix=\"barcode_round\",\n",
    "    suffix=ops[\"barcode_projection\"],\n",
    "    nrounds=ops[\"barcode_rounds\"],\n",
    "    correct_channels=ops[\"barcode_correct_channels\"],\n",
    "    corrected_shifts=ops[\"corrected_shifts\"],\n",
    "    correct_illumination=True,\n",
    ")\n",
    "stack = stack[:, :, np.argsort(ops[\"camera_order\"]), :]\n",
    "stack[bad_pixels, :, :] = 0\n",
    "ref = stack.std(axis=(2, 3))\n",
    "print(stack.shape)"
   ]
  },
  {
   "cell_type": "code",
   "execution_count": null,
   "metadata": {},
   "outputs": [],
   "source": [
    "ops = issp.io.load.load_ops(data_path)\n",
    "data_folder = issp.io.get_processed_path(data_path)\n",
    "roi = tile_coors[0]\n",
    "barcode_spots = pd.read_pickle(\n",
    "    data_folder / f\"barcode_round_spots_{roi}.pkl\"\n",
    ")\n",
    "tile_name = \"_\".join([str(t) for t in tile_coors])\n",
    "barcode_spots.query(\"tile == @tile_name\", inplace=True)\n",
    "print(barcode_spots.shape)\n",
    "tile_corners = issp.pipeline.stitch.get_tile_corners(data_path, prefix=ops['reference_prefix'], roi=tile_coors[0])\n",
    "tile_origin = tile_corners[tile_coors[1], tile_coors[2]].min(axis=1)\n"
   ]
  },
  {
   "cell_type": "code",
   "execution_count": null,
   "metadata": {},
   "outputs": [],
   "source": [
    "barcode_spots[\"x_tile\"] = barcode_spots[\"x\"] - tile_origin[1]\n",
    "barcode_spots[\"y_tile\"] = barcode_spots[\"y\"] - tile_origin[0]\n",
    "ax = plt.subplot(1,1,1)\n",
    "ax.set_title(f\"Tile {tile_coors} - all spots\")\n",
    "cax, cb = plot_matrix_with_colorbar(ref, ax=ax,vmax=0.1, interpolation=\"none\")\n",
    "cb.set_label(\"Std\")\n",
    "ax.scatter(barcode_spots[\"x_tile\"], barcode_spots[\"y_tile\"], s=1, c=\"r\", alpha=0.1)\n",
    "center = np.array([700, 2100])\n",
    "ax.scatter(center[1], center[0], s=10, c=\"green\", alpha=1)\n"
   ]
  },
  {
   "cell_type": "markdown",
   "metadata": {},
   "source": [
    "# Show various thresholds"
   ]
  },
  {
   "cell_type": "code",
   "execution_count": null,
   "metadata": {},
   "outputs": [],
   "source": [
    "thresholds=dict(mean_intensity_threshold=0.03,\n",
    "dot_product_score_threshold=0.2,\n",
    "mean_score_threshold=0.9\n",
    ")"
   ]
  },
  {
   "cell_type": "code",
   "execution_count": null,
   "metadata": {},
   "outputs": [],
   "source": [
    "from mpl_toolkits.axes_grid1.axes_divider import make_axes_locatable\n",
    "fig = plt.figure(figsize=(15, 5))\n",
    "\n",
    "win = 150\n",
    "for iax, (prop_th, thres) in enumerate(thresholds.items()):\n",
    "    prop = prop_th.replace(\"_threshold\", \"\")\n",
    "    ax = plt.subplot(1, 3, 1 + iax)\n",
    "    ax.set_title(f\"{prop}\")\n",
    "    ax.imshow(ref, vmax=0.2, interpolation=\"none\", cmap=\"gray\")\n",
    "    ax.set_xticks([])\n",
    "    ax.set_yticks([])\n",
    "    ax_divider = make_axes_locatable(ax)\n",
    "    cax = ax_divider.append_axes(\"right\", size=\"7%\", pad=\"2%\")\n",
    "    vmin, vmax = thres * np.array([1/ 2, 2])\n",
    "    if prop == \"mean_score\":\n",
    "        vmin, vmax = [0.8, 1]\n",
    "    \n",
    "    sc = ax.scatter(barcode_spots[\"x_tile\"], barcode_spots[\"y_tile\"], s=5, c=barcode_spots[prop], vmin=vmin, vmax=vmax, alpha=1)\n",
    "    cb = ax.figure.colorbar(sc, cax=cax)\n",
    "    cax.axhline(thres, color=\"r\")\n",
    "    ax.set_xlim(center[1] - win, center[1] + win)\n",
    "    ax.set_ylim(center[0] + win, center[0] - win)\n",
    "\n",
    "fig.tight_layout()"
   ]
  },
  {
   "cell_type": "code",
   "execution_count": null,
   "metadata": {},
   "outputs": [],
   "source": [
    "# Plot all rounds\n",
    "window = 150\n",
    "lims = np.vstack([center - window, center + window]).astype(int)\n",
    "lims = np.clip(lims, 0, np.array(stack.shape[:2]) - 1)\n",
    "nr = ops[\"barcode_rounds\"]\n",
    "stack_part = stack[lims[0, 0] : lims[1, 0], lims[0, 1] : lims[1, 1], :]\n",
    "valid_spots = barcode_spots[\n",
    "    (barcode_spots.x_tile > lims[0, 1])\n",
    "    & (barcode_spots.x_tile < lims[1, 1])\n",
    "    & (barcode_spots.y_tile > lims[0, 0])\n",
    "    & (barcode_spots.y_tile < lims[1, 0])\n",
    "]\n",
    "print(f\"Valid spots: {valid_spots.shape[0]}\")\n",
    "for prop_th, th in thresholds.items():\n",
    "    prop = prop_th.replace(\"_threshold\", \"\")\n",
    "    valid_spots = valid_spots.query(f\"{prop} > {th}\")\n",
    "    print(f\"Valid spots after {prop}: {valid_spots.shape[0]}\")\n",
    "\n",
    "\n",
    "fig = plt.figure(figsize=(15, 10))\n",
    "channel_colors = ([1, 0, 0], [0, 1, 0], [1, 0, 1], [0, 1, 1])\n",
    "nr = 14\n",
    "for iround in range(nr):\n",
    "    ax = plt.subplot(3, 5, 1 + iround)\n",
    "    ax.set_title(f\"Round {iround}\")\n",
    "    rgb_stack = issp.vis.round_to_rgb(\n",
    "                stack_part, iround, extent=None, channel_colors=channel_colors\n",
    "            )\n",
    "    # plot raw fluo\n",
    "    ax.imshow(rgb_stack)\n",
    "    \n",
    "    ax.scatter(valid_spots[\"x_tile\"] - lims[0, 1] +6, valid_spots[\"y_tile\"] - lims[0, 0]-4, s=50,\n",
    "               marker='o', edgecolors='w', facecolors='none', alpha=1)\n",
    "    ax.set_xticks([])\n",
    "    ax.set_yticks([])\n",
    "fig.tight_layout()"
   ]
  },
  {
   "cell_type": "markdown",
   "metadata": {},
   "source": [
    "# GMM filter the rest\n",
    "\n",
    "\n",
    "Do that on all chambers"
   ]
  },
  {
   "cell_type": "code",
   "execution_count": null,
   "metadata": {},
   "outputs": [],
   "source": [
    "import iss_analysis as issa\n",
    "\n",
    "valid_components = [1]\n",
    "data_path = f\"becalia_rabies_barseq/{mouse}/\"\n",
    "\n",
    "barcode_spots, gmm, all_barcode_spots = issa.barcodes.barcodes.get_barcodes(\n",
    "    acquisition_folder=data_path,\n",
    "    n_components=3,\n",
    "    valid_components=valid_components,\n",
    "    **thresholds,\n",
    ")\n"
   ]
  },
  {
   "cell_type": "code",
   "execution_count": null,
   "metadata": {},
   "outputs": [],
   "source": [
    "from iss_analysis.barcodes.diagnostics import plot_gmm_clusters\n",
    "pg = plot_gmm_clusters(all_barcode_spots, gmm, thresholds=thresholds)\n",
    "fig = pg.figure\n"
   ]
  },
  {
   "cell_type": "code",
   "execution_count": null,
   "metadata": {},
   "outputs": [],
   "source": [
    "ch_r_gp = all_barcode_spots.groupby([\"chamber\", \"roi\"])\n",
    "n_rois = len(ch_r_gp)\n",
    "n_comp = len(all_barcode_spots.gmm_label.unique())\n",
    "n_per_lab = np.zeros((n_rois, n_comp))\n",
    "\n",
    "for i, (ch_r, df) in enumerate(ch_r_gp):\n",
    "    n_per_lab[i] = df.groupby(\"gmm_label\").size()\n",
    "\n",
    "fig = plt.figure(figsize=(20, 10))\n",
    "ax = fig.add_subplot(2, 1, 1)\n",
    "ax.plot(np.arange(n_rois), n_per_lab, \"o-\")\n",
    "ax.plot(np.arange(n_rois), np.sum(n_per_lab, axis=1), \"o-\", color=\"black\")\n",
    "ax.set_xticks(np.arange(n_rois))\n",
    "ax.set_xticklabels([])\n",
    "ax.set_ylabel(\"Number of spots\")\n",
    "ax = fig.add_subplot(2, 1, 2)\n",
    "ax.plot(np.arange(n_rois), n_per_lab / np.sum(n_per_lab, axis=1, keepdims=True), \"o-\")\n",
    "ax.set_xticks(np.arange(n_rois))\n",
    "ax.set_ylabel(\"Fraction of spots\")\n",
    "_ = ax.set_xticklabels([f\"{ch}_{r}\" for ch, r in ch_r_gp.groups.keys()], rotation=90)\n",
    "fig.tight_layout()"
   ]
  },
  {
   "cell_type": "code",
   "execution_count": null,
   "metadata": {},
   "outputs": [],
   "source": [
    "ex_chamber = 9\n",
    "roi = 9\n",
    "\n",
    "import matplotlib.pyplot as plt\n",
    "\n",
    "df = all_barcode_spots[\n",
    "    (all_barcode_spots[\"chamber\"] == f\"chamber_{ex_chamber:02}\")\n",
    "    & (all_barcode_spots[\"roi\"] == roi)\n",
    "]\n",
    "\n",
    "for i in range(n_comp):\n",
    "    fig = plt.figure(figsize=(10, 10), facecolor=\"w\")\n",
    "    ax = fig.add_subplot(1, 1, 1, aspect=\"equal\", facecolor=\"w\")\n",
    "    ax.scatter(\n",
    "        df[df[\"gmm_label\"] == i][\"y\"],\n",
    "        df[df[\"gmm_label\"] == i][\"x\"],\n",
    "        label=f\"cluster {i}\",\n",
    "        alpha=0.2,\n",
    "        s=3,\n",
    "        color=f\"k\",\n",
    "    )\n",
    "    ax.set_xlim(5000, 15000)\n",
    "    ax.set_ylim(10000, 18000)\n",
    "    # _ = ax.axis(\"off\")\n",
    "    ax.legend()\n",
    "    break\n",
    "fig.tight_layout()\n"
   ]
  },
  {
   "cell_type": "code",
   "execution_count": null,
   "metadata": {},
   "outputs": [],
   "source": [
    "chamber, roi"
   ]
  },
  {
   "cell_type": "code",
   "execution_count": null,
   "metadata": {},
   "outputs": [],
   "source": [
    "# Plot all rounds\n",
    "\n",
    "barcode_spots = all_barcode_spots.query(\"chamber == @chamber\")\n",
    "barcode_spots.query(\"tile == @tile_name\", inplace=True)\n",
    "barcode_spots[\"x_tile\"] = barcode_spots[\"x\"] - tile_origin[1]\n",
    "barcode_spots[\"y_tile\"] = barcode_spots[\"y\"] - tile_origin[0]\n",
    "\n",
    "window = 100\n",
    "lims = np.vstack([center - window, center + window]).astype(int)\n",
    "lims = np.clip(lims, 0, np.array(stack.shape[:2]) - 1)\n",
    "nr = ops[\"barcode_rounds\"]\n",
    "stack_part = stack[lims[0, 0] : lims[1, 0], lims[0, 1] : lims[1, 1], :]\n",
    "valid_spots = barcode_spots[\n",
    "    (barcode_spots.x_tile > lims[0, 1])\n",
    "    & (barcode_spots.x_tile < lims[1, 1])\n",
    "    & (barcode_spots.y_tile > lims[0, 0])\n",
    "    & (barcode_spots.y_tile < lims[1, 0])\n",
    "]\n",
    "print(f\"Valid spots: {valid_spots.shape[0]}\")\n",
    "for prop_th, th in thresholds.items():\n",
    "    prop = prop_th.replace(\"_threshold\", \"\")\n",
    "    valid_spots = valid_spots.query(f\"{prop} > {th}\")\n",
    "    print(f\"Valid spots after {prop}: {valid_spots.shape[0]}\")\n",
    "\n",
    "\n",
    "fig = plt.figure(figsize=(15, 7))\n",
    "channel_colors = ([1, 0, 0], [0, 1, 0], [1, 0, 1], [0, 1, 1])\n",
    "nr = 10\n",
    "for iround in range(nr):\n",
    "    ax = plt.subplot(2, 5, 1 + iround)\n",
    "    ax.set_title(f\"Round {iround}\")\n",
    "    rgb_stack = issp.vis.round_to_rgb(\n",
    "                stack_part, iround, extent=None, channel_colors=channel_colors\n",
    "            )\n",
    "    # plot raw fluo\n",
    "    ax.imshow(rgb_stack)\n",
    "    for lab, spots in valid_spots.groupby(\"gmm_label\"):\n",
    "        ax.scatter(spots[\"x_tile\"] - lims[0, 1] +6, spots[\"y_tile\"] - lims[0, 0]-4, s=50,\n",
    "                   marker='o', facecolors='none', edgecolors=f'C{lab}', alpha=1, label=f\"Cluster {lab}\")\n",
    "   \n",
    "    ax.set_xticks([])\n",
    "    ax.set_yticks([])\n",
    "fig.tight_layout()\n",
    "ax.legend()"
   ]
  },
  {
   "cell_type": "code",
   "execution_count": null,
   "metadata": {},
   "outputs": [],
   "source": []
  }
 ],
 "metadata": {
  "kernelspec": {
   "language": "python"
  },
  "language_info": {
   "codemirror_mode": {
    "name": "ipython",
    "version": 3
   },
   "file_extension": ".py",
   "mimetype": "text/x-python",
   "name": "python",
   "nbconvert_exporter": "python",
   "pygments_lexer": "ipython3"
  }
 },
 "nbformat": 4,
 "nbformat_minor": 2
}
